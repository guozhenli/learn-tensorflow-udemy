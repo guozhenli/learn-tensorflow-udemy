{
 "cells": [
  {
   "cell_type": "code",
   "execution_count": 1,
   "metadata": {
    "collapsed": true
   },
   "outputs": [],
   "source": [
    "import numpy as np\n",
    "import pandas as pd\n",
    "import matplotlib.pyplot as plt\n",
    "import tensorflow as tf"
   ]
  },
  {
   "cell_type": "markdown",
   "metadata": {},
   "source": [
    "## Load Data"
   ]
  },
  {
   "cell_type": "code",
   "execution_count": 4,
   "metadata": {},
   "outputs": [
    {
     "data": {
      "text/html": [
       "<div>\n",
       "<style>\n",
       "    .dataframe thead tr:only-child th {\n",
       "        text-align: right;\n",
       "    }\n",
       "\n",
       "    .dataframe thead th {\n",
       "        text-align: left;\n",
       "    }\n",
       "\n",
       "    .dataframe tbody tr th {\n",
       "        vertical-align: top;\n",
       "    }\n",
       "</style>\n",
       "<table border=\"1\" class=\"dataframe\">\n",
       "  <thead>\n",
       "    <tr style=\"text-align: right;\">\n",
       "      <th></th>\n",
       "      <th>age</th>\n",
       "      <th>workclass</th>\n",
       "      <th>education</th>\n",
       "      <th>education_num</th>\n",
       "      <th>marital_status</th>\n",
       "      <th>occupation</th>\n",
       "      <th>relationship</th>\n",
       "      <th>race</th>\n",
       "      <th>gender</th>\n",
       "      <th>capital_gain</th>\n",
       "      <th>capital_loss</th>\n",
       "      <th>hours_per_week</th>\n",
       "      <th>native_country</th>\n",
       "      <th>income_bracket</th>\n",
       "    </tr>\n",
       "  </thead>\n",
       "  <tbody>\n",
       "    <tr>\n",
       "      <th>0</th>\n",
       "      <td>39</td>\n",
       "      <td>State-gov</td>\n",
       "      <td>Bachelors</td>\n",
       "      <td>13</td>\n",
       "      <td>Never-married</td>\n",
       "      <td>Adm-clerical</td>\n",
       "      <td>Not-in-family</td>\n",
       "      <td>White</td>\n",
       "      <td>Male</td>\n",
       "      <td>2174</td>\n",
       "      <td>0</td>\n",
       "      <td>40</td>\n",
       "      <td>United-States</td>\n",
       "      <td>&lt;=50K</td>\n",
       "    </tr>\n",
       "    <tr>\n",
       "      <th>1</th>\n",
       "      <td>50</td>\n",
       "      <td>Self-emp-not-inc</td>\n",
       "      <td>Bachelors</td>\n",
       "      <td>13</td>\n",
       "      <td>Married-civ-spouse</td>\n",
       "      <td>Exec-managerial</td>\n",
       "      <td>Husband</td>\n",
       "      <td>White</td>\n",
       "      <td>Male</td>\n",
       "      <td>0</td>\n",
       "      <td>0</td>\n",
       "      <td>13</td>\n",
       "      <td>United-States</td>\n",
       "      <td>&lt;=50K</td>\n",
       "    </tr>\n",
       "    <tr>\n",
       "      <th>2</th>\n",
       "      <td>38</td>\n",
       "      <td>Private</td>\n",
       "      <td>HS-grad</td>\n",
       "      <td>9</td>\n",
       "      <td>Divorced</td>\n",
       "      <td>Handlers-cleaners</td>\n",
       "      <td>Not-in-family</td>\n",
       "      <td>White</td>\n",
       "      <td>Male</td>\n",
       "      <td>0</td>\n",
       "      <td>0</td>\n",
       "      <td>40</td>\n",
       "      <td>United-States</td>\n",
       "      <td>&lt;=50K</td>\n",
       "    </tr>\n",
       "    <tr>\n",
       "      <th>3</th>\n",
       "      <td>53</td>\n",
       "      <td>Private</td>\n",
       "      <td>11th</td>\n",
       "      <td>7</td>\n",
       "      <td>Married-civ-spouse</td>\n",
       "      <td>Handlers-cleaners</td>\n",
       "      <td>Husband</td>\n",
       "      <td>Black</td>\n",
       "      <td>Male</td>\n",
       "      <td>0</td>\n",
       "      <td>0</td>\n",
       "      <td>40</td>\n",
       "      <td>United-States</td>\n",
       "      <td>&lt;=50K</td>\n",
       "    </tr>\n",
       "    <tr>\n",
       "      <th>4</th>\n",
       "      <td>28</td>\n",
       "      <td>Private</td>\n",
       "      <td>Bachelors</td>\n",
       "      <td>13</td>\n",
       "      <td>Married-civ-spouse</td>\n",
       "      <td>Prof-specialty</td>\n",
       "      <td>Wife</td>\n",
       "      <td>Black</td>\n",
       "      <td>Female</td>\n",
       "      <td>0</td>\n",
       "      <td>0</td>\n",
       "      <td>40</td>\n",
       "      <td>Cuba</td>\n",
       "      <td>&lt;=50K</td>\n",
       "    </tr>\n",
       "  </tbody>\n",
       "</table>\n",
       "</div>"
      ],
      "text/plain": [
       "   age          workclass   education  education_num       marital_status  \\\n",
       "0   39          State-gov   Bachelors             13        Never-married   \n",
       "1   50   Self-emp-not-inc   Bachelors             13   Married-civ-spouse   \n",
       "2   38            Private     HS-grad              9             Divorced   \n",
       "3   53            Private        11th              7   Married-civ-spouse   \n",
       "4   28            Private   Bachelors             13   Married-civ-spouse   \n",
       "\n",
       "           occupation    relationship    race   gender  capital_gain  \\\n",
       "0        Adm-clerical   Not-in-family   White     Male          2174   \n",
       "1     Exec-managerial         Husband   White     Male             0   \n",
       "2   Handlers-cleaners   Not-in-family   White     Male             0   \n",
       "3   Handlers-cleaners         Husband   Black     Male             0   \n",
       "4      Prof-specialty            Wife   Black   Female             0   \n",
       "\n",
       "   capital_loss  hours_per_week  native_country income_bracket  \n",
       "0             0              40   United-States          <=50K  \n",
       "1             0              13   United-States          <=50K  \n",
       "2             0              40   United-States          <=50K  \n",
       "3             0              40   United-States          <=50K  \n",
       "4             0              40            Cuba          <=50K  "
      ]
     },
     "execution_count": 4,
     "metadata": {},
     "output_type": "execute_result"
    }
   ],
   "source": [
    "census = pd.read_csv('census_data.csv')\n",
    "census.head()"
   ]
  },
  {
   "cell_type": "markdown",
   "metadata": {},
   "source": [
    "## Check Data"
   ]
  },
  {
   "cell_type": "code",
   "execution_count": 10,
   "metadata": {},
   "outputs": [
    {
     "name": "stdout",
     "output_type": "stream",
     "text": [
      "<class 'pandas.core.frame.DataFrame'>\n",
      "RangeIndex: 32561 entries, 0 to 32560\n",
      "Data columns (total 14 columns):\n",
      "age               32561 non-null int64\n",
      "workclass         32561 non-null object\n",
      "education         32561 non-null object\n",
      "education_num     32561 non-null int64\n",
      "marital_status    32561 non-null object\n",
      "occupation        32561 non-null object\n",
      "relationship      32561 non-null object\n",
      "race              32561 non-null object\n",
      "gender            32561 non-null object\n",
      "capital_gain      32561 non-null int64\n",
      "capital_loss      32561 non-null int64\n",
      "hours_per_week    32561 non-null int64\n",
      "native_country    32561 non-null object\n",
      "income_bracket    32561 non-null object\n",
      "dtypes: int64(5), object(9)\n",
      "memory usage: 3.5+ MB\n"
     ]
    }
   ],
   "source": [
    "census.info()"
   ]
  },
  {
   "cell_type": "code",
   "execution_count": 7,
   "metadata": {},
   "outputs": [
    {
     "data": {
      "text/plain": [
       "(32561, 14)"
      ]
     },
     "execution_count": 7,
     "metadata": {},
     "output_type": "execute_result"
    }
   ],
   "source": [
    "census.shape"
   ]
  },
  {
   "cell_type": "code",
   "execution_count": 8,
   "metadata": {},
   "outputs": [
    {
     "data": {
      "text/plain": [
       "age               0\n",
       "workclass         0\n",
       "education         0\n",
       "education_num     0\n",
       "marital_status    0\n",
       "occupation        0\n",
       "relationship      0\n",
       "race              0\n",
       "gender            0\n",
       "capital_gain      0\n",
       "capital_loss      0\n",
       "hours_per_week    0\n",
       "native_country    0\n",
       "income_bracket    0\n",
       "dtype: int64"
      ]
     },
     "execution_count": 8,
     "metadata": {},
     "output_type": "execute_result"
    }
   ],
   "source": [
    "census.isnull().sum()"
   ]
  },
  {
   "cell_type": "markdown",
   "metadata": {},
   "source": [
    "## Preprocessing\n",
    "### `income_bucket`  0-1 encoding"
   ]
  },
  {
   "cell_type": "code",
   "execution_count": 9,
   "metadata": {
    "scrolled": true
   },
   "outputs": [
    {
     "data": {
      "text/plain": [
       " <=50K    24720\n",
       " >50K      7841\n",
       "Name: income_bracket, dtype: int64"
      ]
     },
     "execution_count": 9,
     "metadata": {},
     "output_type": "execute_result"
    }
   ],
   "source": [
    "census.income_bracket.value_counts()"
   ]
  },
  {
   "cell_type": "code",
   "execution_count": 13,
   "metadata": {},
   "outputs": [
    {
     "data": {
      "text/html": [
       "<div>\n",
       "<style>\n",
       "    .dataframe thead tr:only-child th {\n",
       "        text-align: right;\n",
       "    }\n",
       "\n",
       "    .dataframe thead th {\n",
       "        text-align: left;\n",
       "    }\n",
       "\n",
       "    .dataframe tbody tr th {\n",
       "        vertical-align: top;\n",
       "    }\n",
       "</style>\n",
       "<table border=\"1\" class=\"dataframe\">\n",
       "  <thead>\n",
       "    <tr style=\"text-align: right;\">\n",
       "      <th></th>\n",
       "      <th>age</th>\n",
       "      <th>workclass</th>\n",
       "      <th>education</th>\n",
       "      <th>education_num</th>\n",
       "      <th>marital_status</th>\n",
       "      <th>occupation</th>\n",
       "      <th>relationship</th>\n",
       "      <th>race</th>\n",
       "      <th>gender</th>\n",
       "      <th>capital_gain</th>\n",
       "      <th>capital_loss</th>\n",
       "      <th>hours_per_week</th>\n",
       "      <th>native_country</th>\n",
       "      <th>income_bracket</th>\n",
       "      <th>high_income</th>\n",
       "    </tr>\n",
       "  </thead>\n",
       "  <tbody>\n",
       "    <tr>\n",
       "      <th>0</th>\n",
       "      <td>39</td>\n",
       "      <td>State-gov</td>\n",
       "      <td>Bachelors</td>\n",
       "      <td>13</td>\n",
       "      <td>Never-married</td>\n",
       "      <td>Adm-clerical</td>\n",
       "      <td>Not-in-family</td>\n",
       "      <td>White</td>\n",
       "      <td>Male</td>\n",
       "      <td>2174</td>\n",
       "      <td>0</td>\n",
       "      <td>40</td>\n",
       "      <td>United-States</td>\n",
       "      <td>&lt;=50K</td>\n",
       "      <td>0</td>\n",
       "    </tr>\n",
       "    <tr>\n",
       "      <th>1</th>\n",
       "      <td>50</td>\n",
       "      <td>Self-emp-not-inc</td>\n",
       "      <td>Bachelors</td>\n",
       "      <td>13</td>\n",
       "      <td>Married-civ-spouse</td>\n",
       "      <td>Exec-managerial</td>\n",
       "      <td>Husband</td>\n",
       "      <td>White</td>\n",
       "      <td>Male</td>\n",
       "      <td>0</td>\n",
       "      <td>0</td>\n",
       "      <td>13</td>\n",
       "      <td>United-States</td>\n",
       "      <td>&lt;=50K</td>\n",
       "      <td>0</td>\n",
       "    </tr>\n",
       "    <tr>\n",
       "      <th>2</th>\n",
       "      <td>38</td>\n",
       "      <td>Private</td>\n",
       "      <td>HS-grad</td>\n",
       "      <td>9</td>\n",
       "      <td>Divorced</td>\n",
       "      <td>Handlers-cleaners</td>\n",
       "      <td>Not-in-family</td>\n",
       "      <td>White</td>\n",
       "      <td>Male</td>\n",
       "      <td>0</td>\n",
       "      <td>0</td>\n",
       "      <td>40</td>\n",
       "      <td>United-States</td>\n",
       "      <td>&lt;=50K</td>\n",
       "      <td>0</td>\n",
       "    </tr>\n",
       "    <tr>\n",
       "      <th>3</th>\n",
       "      <td>53</td>\n",
       "      <td>Private</td>\n",
       "      <td>11th</td>\n",
       "      <td>7</td>\n",
       "      <td>Married-civ-spouse</td>\n",
       "      <td>Handlers-cleaners</td>\n",
       "      <td>Husband</td>\n",
       "      <td>Black</td>\n",
       "      <td>Male</td>\n",
       "      <td>0</td>\n",
       "      <td>0</td>\n",
       "      <td>40</td>\n",
       "      <td>United-States</td>\n",
       "      <td>&lt;=50K</td>\n",
       "      <td>0</td>\n",
       "    </tr>\n",
       "    <tr>\n",
       "      <th>4</th>\n",
       "      <td>28</td>\n",
       "      <td>Private</td>\n",
       "      <td>Bachelors</td>\n",
       "      <td>13</td>\n",
       "      <td>Married-civ-spouse</td>\n",
       "      <td>Prof-specialty</td>\n",
       "      <td>Wife</td>\n",
       "      <td>Black</td>\n",
       "      <td>Female</td>\n",
       "      <td>0</td>\n",
       "      <td>0</td>\n",
       "      <td>40</td>\n",
       "      <td>Cuba</td>\n",
       "      <td>&lt;=50K</td>\n",
       "      <td>0</td>\n",
       "    </tr>\n",
       "  </tbody>\n",
       "</table>\n",
       "</div>"
      ],
      "text/plain": [
       "   age          workclass   education  education_num       marital_status  \\\n",
       "0   39          State-gov   Bachelors             13        Never-married   \n",
       "1   50   Self-emp-not-inc   Bachelors             13   Married-civ-spouse   \n",
       "2   38            Private     HS-grad              9             Divorced   \n",
       "3   53            Private        11th              7   Married-civ-spouse   \n",
       "4   28            Private   Bachelors             13   Married-civ-spouse   \n",
       "\n",
       "           occupation    relationship    race   gender  capital_gain  \\\n",
       "0        Adm-clerical   Not-in-family   White     Male          2174   \n",
       "1     Exec-managerial         Husband   White     Male             0   \n",
       "2   Handlers-cleaners   Not-in-family   White     Male             0   \n",
       "3   Handlers-cleaners         Husband   Black     Male             0   \n",
       "4      Prof-specialty            Wife   Black   Female             0   \n",
       "\n",
       "   capital_loss  hours_per_week  native_country income_bracket  high_income  \n",
       "0             0              40   United-States          <=50K            0  \n",
       "1             0              13   United-States          <=50K            0  \n",
       "2             0              40   United-States          <=50K            0  \n",
       "3             0              40   United-States          <=50K            0  \n",
       "4             0              40            Cuba          <=50K            0  "
      ]
     },
     "execution_count": 13,
     "metadata": {},
     "output_type": "execute_result"
    }
   ],
   "source": [
    "census['high_income'] = pd.get_dummies(census.income_bracket, drop_first=True)\n",
    "census.head()"
   ]
  },
  {
   "cell_type": "markdown",
   "metadata": {},
   "source": [
    "### Train test stplit"
   ]
  },
  {
   "cell_type": "code",
   "execution_count": 14,
   "metadata": {
    "collapsed": true
   },
   "outputs": [],
   "source": [
    "from sklearn.model_selection import train_test_split"
   ]
  },
  {
   "cell_type": "code",
   "execution_count": 16,
   "metadata": {},
   "outputs": [],
   "source": [
    "X = census.drop(['income_bracket', 'high_income'], axis=1)\n",
    "y = census['high_income']"
   ]
  },
  {
   "cell_type": "code",
   "execution_count": 19,
   "metadata": {},
   "outputs": [
    {
     "name": "stdout",
     "output_type": "stream",
     "text": [
      "(22792, 13) (9769, 13)\n",
      "(22792,) (9769,)\n"
     ]
    }
   ],
   "source": [
    "X_train, X_test, y_train, y_test = train_test_split(X, y, test_size=0.3, random_state=101)\n",
    "print(X_train.shape, X_test.shape)\n",
    "print(y_train.shape, y_test.shape)"
   ]
  },
  {
   "cell_type": "markdown",
   "metadata": {},
   "source": [
    "## TF Model\n",
    "### Feature columns"
   ]
  },
  {
   "cell_type": "code",
   "execution_count": 20,
   "metadata": {},
   "outputs": [
    {
     "data": {
      "text/plain": [
       "Index(['age', 'workclass', 'education', 'education_num', 'marital_status',\n",
       "       'occupation', 'relationship', 'race', 'gender', 'capital_gain',\n",
       "       'capital_loss', 'hours_per_week', 'native_country'],\n",
       "      dtype='object')"
      ]
     },
     "execution_count": 20,
     "metadata": {},
     "output_type": "execute_result"
    }
   ],
   "source": [
    "X.columns"
   ]
  },
  {
   "cell_type": "code",
   "execution_count": 21,
   "metadata": {},
   "outputs": [
    {
     "data": {
      "text/plain": [
       "[_HashedCategoricalColumn(key='workclass', hash_bucket_size=1000, dtype=tf.string),\n",
       " _HashedCategoricalColumn(key='education', hash_bucket_size=1000, dtype=tf.string),\n",
       " _HashedCategoricalColumn(key='marital_status', hash_bucket_size=1000, dtype=tf.string),\n",
       " _HashedCategoricalColumn(key='occupation', hash_bucket_size=1000, dtype=tf.string),\n",
       " _HashedCategoricalColumn(key='relationship', hash_bucket_size=1000, dtype=tf.string),\n",
       " _HashedCategoricalColumn(key='race', hash_bucket_size=1000, dtype=tf.string),\n",
       " _HashedCategoricalColumn(key='gender', hash_bucket_size=1000, dtype=tf.string),\n",
       " _HashedCategoricalColumn(key='native_country', hash_bucket_size=1000, dtype=tf.string),\n",
       " _NumericColumn(key='age', shape=(1,), default_value=None, dtype=tf.float32, normalizer_fn=None),\n",
       " _NumericColumn(key='education_num', shape=(1,), default_value=None, dtype=tf.float32, normalizer_fn=None),\n",
       " _NumericColumn(key='capital_gain', shape=(1,), default_value=None, dtype=tf.float32, normalizer_fn=None),\n",
       " _NumericColumn(key='capital_loss', shape=(1,), default_value=None, dtype=tf.float32, normalizer_fn=None),\n",
       " _NumericColumn(key='hours_per_week', shape=(1,), default_value=None, dtype=tf.float32, normalizer_fn=None)]"
      ]
     },
     "execution_count": 21,
     "metadata": {},
     "output_type": "execute_result"
    }
   ],
   "source": [
    "cat_cols = ['workclass', 'education', 'marital_status', \n",
    "            'occupation', 'relationship', 'race', \n",
    "            'gender', 'native_country']\n",
    "cont_cols = ['age', 'education_num', 'capital_gain', 'capital_loss', 'hours_per_week']\n",
    "\n",
    "feat_cols = [tf.feature_column.categorical_column_with_hash_bucket(cat, 1000) for cat in cat_cols] + \\\n",
    "            [tf.feature_column.numeric_column(cont) for cont in cont_cols]\n",
    "feat_cols"
   ]
  },
  {
   "cell_type": "markdown",
   "metadata": {},
   "source": [
    "### Input functions"
   ]
  },
  {
   "cell_type": "code",
   "execution_count": 25,
   "metadata": {
    "collapsed": true
   },
   "outputs": [],
   "source": [
    "input_func = tf.estimator.inputs.pandas_input_fn(x=X_train, y=y_train, batch_size=100, num_epochs=100, shuffle=True)"
   ]
  },
  {
   "cell_type": "markdown",
   "metadata": {},
   "source": [
    "### Estimator model"
   ]
  },
  {
   "cell_type": "code",
   "execution_count": 26,
   "metadata": {},
   "outputs": [
    {
     "name": "stdout",
     "output_type": "stream",
     "text": [
      "INFO:tensorflow:Using default config.\n",
      "WARNING:tensorflow:Using temporary folder as model directory: /var/folders/n_/yc8w5lvd0939ndnjzj5wm8mr0000gn/T/tmpug6vqbsu\n",
      "INFO:tensorflow:Using config: {'_session_config': None, '_save_checkpoints_steps': None, '_save_checkpoints_secs': 600, '_log_step_count_steps': 100, '_keep_checkpoint_max': 5, '_keep_checkpoint_every_n_hours': 10000, '_tf_random_seed': 1, '_save_summary_steps': 100, '_model_dir': '/var/folders/n_/yc8w5lvd0939ndnjzj5wm8mr0000gn/T/tmpug6vqbsu'}\n"
     ]
    }
   ],
   "source": [
    "lin_model = tf.estimator.LinearClassifier(feature_columns=feat_cols)"
   ]
  },
  {
   "cell_type": "markdown",
   "metadata": {},
   "source": [
    "### Train model"
   ]
  },
  {
   "cell_type": "code",
   "execution_count": 44,
   "metadata": {},
   "outputs": [
    {
     "name": "stdout",
     "output_type": "stream",
     "text": [
      "INFO:tensorflow:Create CheckpointSaverHook.\n",
      "INFO:tensorflow:Restoring parameters from /var/folders/n_/yc8w5lvd0939ndnjzj5wm8mr0000gn/T/tmpug6vqbsu/model.ckpt-2000\n",
      "INFO:tensorflow:Saving checkpoints for 2001 into /var/folders/n_/yc8w5lvd0939ndnjzj5wm8mr0000gn/T/tmpug6vqbsu/model.ckpt.\n",
      "INFO:tensorflow:step = 2001, loss = 109.807\n",
      "INFO:tensorflow:global_step/sec: 152.216\n",
      "INFO:tensorflow:step = 2101, loss = 29.1162 (0.658 sec)\n",
      "INFO:tensorflow:global_step/sec: 164.275\n",
      "INFO:tensorflow:step = 2201, loss = 57.2364 (0.609 sec)\n",
      "INFO:tensorflow:global_step/sec: 163.167\n",
      "INFO:tensorflow:step = 2301, loss = 106.041 (0.613 sec)\n",
      "INFO:tensorflow:global_step/sec: 163.307\n",
      "INFO:tensorflow:step = 2401, loss = 104.327 (0.612 sec)\n",
      "INFO:tensorflow:global_step/sec: 161.932\n",
      "INFO:tensorflow:step = 2501, loss = 133.915 (0.618 sec)\n",
      "INFO:tensorflow:global_step/sec: 163.24\n",
      "INFO:tensorflow:step = 2601, loss = 29.3066 (0.613 sec)\n",
      "INFO:tensorflow:global_step/sec: 165.042\n",
      "INFO:tensorflow:step = 2701, loss = 77.0501 (0.606 sec)\n",
      "INFO:tensorflow:global_step/sec: 163.52\n",
      "INFO:tensorflow:step = 2801, loss = 39.7015 (0.612 sec)\n",
      "INFO:tensorflow:global_step/sec: 160.117\n",
      "INFO:tensorflow:step = 2901, loss = 53.7065 (0.624 sec)\n",
      "INFO:tensorflow:global_step/sec: 180.375\n",
      "INFO:tensorflow:step = 3001, loss = 44.8381 (0.555 sec)\n",
      "INFO:tensorflow:global_step/sec: 167.673\n",
      "INFO:tensorflow:step = 3101, loss = 69.1381 (0.596 sec)\n",
      "INFO:tensorflow:global_step/sec: 163.094\n",
      "INFO:tensorflow:step = 3201, loss = 107.271 (0.613 sec)\n",
      "INFO:tensorflow:global_step/sec: 163.963\n",
      "INFO:tensorflow:step = 3301, loss = 84.3902 (0.610 sec)\n",
      "INFO:tensorflow:global_step/sec: 162.839\n",
      "INFO:tensorflow:step = 3401, loss = 33.7908 (0.614 sec)\n",
      "INFO:tensorflow:global_step/sec: 164.17\n",
      "INFO:tensorflow:step = 3501, loss = 46.084 (0.609 sec)\n",
      "INFO:tensorflow:global_step/sec: 163.453\n",
      "INFO:tensorflow:step = 3601, loss = 38.7565 (0.612 sec)\n",
      "INFO:tensorflow:global_step/sec: 175.891\n",
      "INFO:tensorflow:step = 3701, loss = 51.0487 (0.568 sec)\n",
      "INFO:tensorflow:global_step/sec: 172.749\n",
      "INFO:tensorflow:step = 3801, loss = 369.225 (0.579 sec)\n",
      "INFO:tensorflow:global_step/sec: 167.918\n",
      "INFO:tensorflow:step = 3901, loss = 151.426 (0.596 sec)\n",
      "INFO:tensorflow:global_step/sec: 165.033\n",
      "INFO:tensorflow:step = 4001, loss = 40.8759 (0.606 sec)\n",
      "INFO:tensorflow:global_step/sec: 164.317\n",
      "INFO:tensorflow:step = 4101, loss = 80.7388 (0.609 sec)\n",
      "INFO:tensorflow:global_step/sec: 163.628\n",
      "INFO:tensorflow:step = 4201, loss = 46.8349 (0.611 sec)\n",
      "INFO:tensorflow:global_step/sec: 171.603\n",
      "INFO:tensorflow:step = 4301, loss = 94.2759 (0.583 sec)\n",
      "INFO:tensorflow:global_step/sec: 173.25\n",
      "INFO:tensorflow:step = 4401, loss = 126.805 (0.577 sec)\n",
      "INFO:tensorflow:global_step/sec: 174.483\n",
      "INFO:tensorflow:step = 4501, loss = 103.794 (0.573 sec)\n",
      "INFO:tensorflow:global_step/sec: 171.758\n",
      "INFO:tensorflow:step = 4601, loss = 99.9788 (0.582 sec)\n",
      "INFO:tensorflow:global_step/sec: 182.913\n",
      "INFO:tensorflow:step = 4701, loss = 69.009 (0.547 sec)\n",
      "INFO:tensorflow:global_step/sec: 169.861\n",
      "INFO:tensorflow:step = 4801, loss = 98.3651 (0.589 sec)\n",
      "INFO:tensorflow:global_step/sec: 169.297\n",
      "INFO:tensorflow:step = 4901, loss = 51.3976 (0.590 sec)\n",
      "INFO:tensorflow:global_step/sec: 166.126\n",
      "INFO:tensorflow:step = 5001, loss = 66.382 (0.602 sec)\n",
      "INFO:tensorflow:global_step/sec: 166.662\n",
      "INFO:tensorflow:step = 5101, loss = 36.6835 (0.600 sec)\n",
      "INFO:tensorflow:global_step/sec: 164.778\n",
      "INFO:tensorflow:step = 5201, loss = 37.2917 (0.607 sec)\n",
      "INFO:tensorflow:global_step/sec: 167.873\n",
      "INFO:tensorflow:step = 5301, loss = 117.243 (0.596 sec)\n",
      "INFO:tensorflow:global_step/sec: 170.6\n",
      "INFO:tensorflow:step = 5401, loss = 39.8613 (0.586 sec)\n",
      "INFO:tensorflow:global_step/sec: 176.419\n",
      "INFO:tensorflow:step = 5501, loss = 179.355 (0.567 sec)\n",
      "INFO:tensorflow:global_step/sec: 169.322\n",
      "INFO:tensorflow:step = 5601, loss = 41.1199 (0.591 sec)\n",
      "INFO:tensorflow:global_step/sec: 170.318\n",
      "INFO:tensorflow:step = 5701, loss = 49.329 (0.587 sec)\n",
      "INFO:tensorflow:global_step/sec: 169.552\n",
      "INFO:tensorflow:step = 5801, loss = 53.5659 (0.590 sec)\n",
      "INFO:tensorflow:global_step/sec: 154.218\n",
      "INFO:tensorflow:step = 5901, loss = 37.3924 (0.649 sec)\n",
      "INFO:tensorflow:global_step/sec: 158.313\n",
      "INFO:tensorflow:step = 6001, loss = 52.067 (0.632 sec)\n",
      "INFO:tensorflow:global_step/sec: 162.101\n",
      "INFO:tensorflow:step = 6101, loss = 31.3033 (0.617 sec)\n",
      "INFO:tensorflow:global_step/sec: 155.242\n",
      "INFO:tensorflow:step = 6201, loss = 57.2748 (0.644 sec)\n",
      "INFO:tensorflow:global_step/sec: 168.854\n",
      "INFO:tensorflow:step = 6301, loss = 650.892 (0.592 sec)\n",
      "INFO:tensorflow:global_step/sec: 166.588\n",
      "INFO:tensorflow:step = 6401, loss = 66.4224 (0.600 sec)\n",
      "INFO:tensorflow:global_step/sec: 170.556\n",
      "INFO:tensorflow:step = 6501, loss = 41.7141 (0.586 sec)\n",
      "INFO:tensorflow:global_step/sec: 174.005\n",
      "INFO:tensorflow:step = 6601, loss = 33.491 (0.575 sec)\n",
      "INFO:tensorflow:global_step/sec: 170.159\n",
      "INFO:tensorflow:step = 6701, loss = 100.443 (0.588 sec)\n",
      "INFO:tensorflow:global_step/sec: 169.808\n",
      "INFO:tensorflow:step = 6801, loss = 237.869 (0.589 sec)\n",
      "INFO:tensorflow:global_step/sec: 165.283\n",
      "INFO:tensorflow:step = 6901, loss = 48.4713 (0.605 sec)\n",
      "INFO:tensorflow:global_step/sec: 177.293\n",
      "INFO:tensorflow:step = 7001, loss = 48.3743 (0.564 sec)\n",
      "INFO:tensorflow:global_step/sec: 168.846\n",
      "INFO:tensorflow:step = 7101, loss = 43.0044 (0.592 sec)\n",
      "INFO:tensorflow:global_step/sec: 171.343\n",
      "INFO:tensorflow:step = 7201, loss = 45.3066 (0.584 sec)\n",
      "INFO:tensorflow:global_step/sec: 168.604\n",
      "INFO:tensorflow:step = 7301, loss = 30.3163 (0.593 sec)\n",
      "INFO:tensorflow:global_step/sec: 166.719\n",
      "INFO:tensorflow:step = 7401, loss = 94.7118 (0.600 sec)\n",
      "INFO:tensorflow:global_step/sec: 167.486\n",
      "INFO:tensorflow:step = 7501, loss = 54.9802 (0.597 sec)\n",
      "INFO:tensorflow:global_step/sec: 172.772\n",
      "INFO:tensorflow:step = 7601, loss = 130.601 (0.579 sec)\n",
      "INFO:tensorflow:global_step/sec: 171.58\n",
      "INFO:tensorflow:step = 7701, loss = 48.4554 (0.583 sec)\n",
      "INFO:tensorflow:global_step/sec: 174.107\n",
      "INFO:tensorflow:step = 7801, loss = 136.917 (0.574 sec)\n",
      "INFO:tensorflow:global_step/sec: 174.806\n",
      "INFO:tensorflow:step = 7901, loss = 44.9749 (0.572 sec)\n",
      "INFO:tensorflow:global_step/sec: 173.341\n",
      "INFO:tensorflow:step = 8001, loss = 108.025 (0.577 sec)\n",
      "INFO:tensorflow:global_step/sec: 171.038\n",
      "INFO:tensorflow:step = 8101, loss = 31.8399 (0.585 sec)\n",
      "INFO:tensorflow:global_step/sec: 172.966\n",
      "INFO:tensorflow:step = 8201, loss = 41.4556 (0.578 sec)\n",
      "INFO:tensorflow:global_step/sec: 177.552\n",
      "INFO:tensorflow:step = 8301, loss = 23.9391 (0.563 sec)\n",
      "INFO:tensorflow:global_step/sec: 169.122\n",
      "INFO:tensorflow:step = 8401, loss = 38.0477 (0.591 sec)\n",
      "INFO:tensorflow:global_step/sec: 172.205\n",
      "INFO:tensorflow:step = 8501, loss = 74.4666 (0.581 sec)\n",
      "INFO:tensorflow:global_step/sec: 175.202\n",
      "INFO:tensorflow:step = 8601, loss = 33.9318 (0.571 sec)\n",
      "INFO:tensorflow:global_step/sec: 173.819\n",
      "INFO:tensorflow:step = 8701, loss = 35.4865 (0.575 sec)\n",
      "INFO:tensorflow:global_step/sec: 164.764\n",
      "INFO:tensorflow:step = 8801, loss = 39.4017 (0.607 sec)\n",
      "INFO:tensorflow:global_step/sec: 166.82\n",
      "INFO:tensorflow:step = 8901, loss = 33.4077 (0.599 sec)\n",
      "INFO:tensorflow:global_step/sec: 166.506\n",
      "INFO:tensorflow:step = 9001, loss = 33.1287 (0.601 sec)\n",
      "INFO:tensorflow:global_step/sec: 173.287\n",
      "INFO:tensorflow:step = 9101, loss = 34.4971 (0.577 sec)\n",
      "INFO:tensorflow:global_step/sec: 168.737\n",
      "INFO:tensorflow:step = 9201, loss = 56.3864 (0.593 sec)\n",
      "INFO:tensorflow:global_step/sec: 171.236\n",
      "INFO:tensorflow:step = 9301, loss = 47.6741 (0.584 sec)\n",
      "INFO:tensorflow:global_step/sec: 171.706\n",
      "INFO:tensorflow:step = 9401, loss = 36.0965 (0.582 sec)\n",
      "INFO:tensorflow:global_step/sec: 171.328\n",
      "INFO:tensorflow:step = 9501, loss = 112.26 (0.584 sec)\n",
      "INFO:tensorflow:global_step/sec: 170.542\n",
      "INFO:tensorflow:step = 9601, loss = 47.7197 (0.586 sec)\n",
      "INFO:tensorflow:global_step/sec: 172.13\n",
      "INFO:tensorflow:step = 9701, loss = 33.1612 (0.581 sec)\n",
      "INFO:tensorflow:global_step/sec: 167.564\n",
      "INFO:tensorflow:step = 9801, loss = 23.2179 (0.597 sec)\n",
      "INFO:tensorflow:global_step/sec: 165.644\n",
      "INFO:tensorflow:step = 9901, loss = 84.8477 (0.604 sec)\n",
      "INFO:tensorflow:global_step/sec: 169.343\n",
      "INFO:tensorflow:step = 10001, loss = 31.7162 (0.591 sec)\n",
      "INFO:tensorflow:global_step/sec: 174.587\n",
      "INFO:tensorflow:step = 10101, loss = 37.8738 (0.573 sec)\n",
      "INFO:tensorflow:global_step/sec: 168.431\n"
     ]
    },
    {
     "name": "stdout",
     "output_type": "stream",
     "text": [
      "INFO:tensorflow:step = 10201, loss = 29.2047 (0.594 sec)\n",
      "INFO:tensorflow:global_step/sec: 169.891\n",
      "INFO:tensorflow:step = 10301, loss = 30.9145 (0.589 sec)\n",
      "INFO:tensorflow:global_step/sec: 172.14\n",
      "INFO:tensorflow:step = 10401, loss = 83.9577 (0.581 sec)\n",
      "INFO:tensorflow:global_step/sec: 172.068\n",
      "INFO:tensorflow:step = 10501, loss = 119.567 (0.582 sec)\n",
      "INFO:tensorflow:global_step/sec: 175.355\n",
      "INFO:tensorflow:step = 10601, loss = 35.0192 (0.570 sec)\n",
      "INFO:tensorflow:global_step/sec: 171.887\n",
      "INFO:tensorflow:step = 10701, loss = 34.5632 (0.582 sec)\n",
      "INFO:tensorflow:global_step/sec: 173.068\n",
      "INFO:tensorflow:step = 10801, loss = 70.3529 (0.578 sec)\n",
      "INFO:tensorflow:global_step/sec: 174.348\n",
      "INFO:tensorflow:step = 10901, loss = 39.4592 (0.574 sec)\n",
      "INFO:tensorflow:global_step/sec: 171.141\n",
      "INFO:tensorflow:step = 11001, loss = 44.6822 (0.584 sec)\n",
      "INFO:tensorflow:global_step/sec: 171.886\n",
      "INFO:tensorflow:step = 11101, loss = 49.7237 (0.582 sec)\n",
      "INFO:tensorflow:global_step/sec: 168.194\n",
      "INFO:tensorflow:step = 11201, loss = 54.972 (0.595 sec)\n",
      "INFO:tensorflow:global_step/sec: 168.014\n",
      "INFO:tensorflow:step = 11301, loss = 73.848 (0.596 sec)\n",
      "INFO:tensorflow:global_step/sec: 165.624\n",
      "INFO:tensorflow:step = 11401, loss = 31.7713 (0.603 sec)\n",
      "INFO:tensorflow:global_step/sec: 165.357\n",
      "INFO:tensorflow:step = 11501, loss = 98.8496 (0.605 sec)\n",
      "INFO:tensorflow:global_step/sec: 168.721\n",
      "INFO:tensorflow:step = 11601, loss = 32.5988 (0.593 sec)\n",
      "INFO:tensorflow:global_step/sec: 167.527\n",
      "INFO:tensorflow:step = 11701, loss = 29.5061 (0.597 sec)\n",
      "INFO:tensorflow:global_step/sec: 166.588\n",
      "INFO:tensorflow:step = 11801, loss = 34.0116 (0.600 sec)\n",
      "INFO:tensorflow:global_step/sec: 170.23\n",
      "INFO:tensorflow:step = 11901, loss = 30.1722 (0.587 sec)\n",
      "INFO:tensorflow:global_step/sec: 173.299\n",
      "INFO:tensorflow:step = 12001, loss = 385.268 (0.577 sec)\n",
      "INFO:tensorflow:global_step/sec: 169.33\n",
      "INFO:tensorflow:step = 12101, loss = 34.1145 (0.591 sec)\n",
      "INFO:tensorflow:global_step/sec: 172.738\n",
      "INFO:tensorflow:step = 12201, loss = 17.9688 (0.579 sec)\n",
      "INFO:tensorflow:global_step/sec: 180.207\n",
      "INFO:tensorflow:step = 12301, loss = 47.0145 (0.555 sec)\n",
      "INFO:tensorflow:global_step/sec: 169.105\n",
      "INFO:tensorflow:step = 12401, loss = 42.9922 (0.591 sec)\n",
      "INFO:tensorflow:global_step/sec: 168.462\n",
      "INFO:tensorflow:step = 12501, loss = 56.2332 (0.594 sec)\n",
      "INFO:tensorflow:global_step/sec: 162.555\n",
      "INFO:tensorflow:step = 12601, loss = 71.3902 (0.617 sec)\n",
      "INFO:tensorflow:global_step/sec: 181.792\n",
      "INFO:tensorflow:step = 12701, loss = 33.4893 (0.548 sec)\n",
      "INFO:tensorflow:global_step/sec: 160.455\n",
      "INFO:tensorflow:step = 12801, loss = 38.8173 (0.623 sec)\n",
      "INFO:tensorflow:global_step/sec: 163.378\n",
      "INFO:tensorflow:step = 12901, loss = 26.5289 (0.612 sec)\n",
      "INFO:tensorflow:global_step/sec: 172.152\n",
      "INFO:tensorflow:step = 13001, loss = 33.681 (0.581 sec)\n",
      "INFO:tensorflow:global_step/sec: 168.085\n",
      "INFO:tensorflow:step = 13101, loss = 40.3351 (0.595 sec)\n",
      "INFO:tensorflow:global_step/sec: 167.992\n",
      "INFO:tensorflow:step = 13201, loss = 35.8727 (0.595 sec)\n",
      "INFO:tensorflow:global_step/sec: 168.533\n",
      "INFO:tensorflow:step = 13301, loss = 35.6371 (0.593 sec)\n",
      "INFO:tensorflow:global_step/sec: 167.449\n",
      "INFO:tensorflow:step = 13401, loss = 55.113 (0.597 sec)\n",
      "INFO:tensorflow:global_step/sec: 165.258\n",
      "INFO:tensorflow:step = 13501, loss = 54.484 (0.605 sec)\n",
      "INFO:tensorflow:global_step/sec: 167.203\n",
      "INFO:tensorflow:step = 13601, loss = 77.806 (0.598 sec)\n",
      "INFO:tensorflow:global_step/sec: 167.378\n",
      "INFO:tensorflow:step = 13701, loss = 38.209 (0.597 sec)\n",
      "INFO:tensorflow:global_step/sec: 170.517\n",
      "INFO:tensorflow:step = 13801, loss = 22.2301 (0.586 sec)\n",
      "INFO:tensorflow:global_step/sec: 166.777\n",
      "INFO:tensorflow:step = 13901, loss = 34.8762 (0.600 sec)\n",
      "INFO:tensorflow:global_step/sec: 160.372\n",
      "INFO:tensorflow:step = 14001, loss = 31.106 (0.624 sec)\n",
      "INFO:tensorflow:global_step/sec: 164.074\n",
      "INFO:tensorflow:step = 14101, loss = 101.586 (0.609 sec)\n",
      "INFO:tensorflow:global_step/sec: 164.46\n",
      "INFO:tensorflow:step = 14201, loss = 51.1705 (0.608 sec)\n",
      "INFO:tensorflow:global_step/sec: 163.282\n",
      "INFO:tensorflow:step = 14301, loss = 29.4745 (0.612 sec)\n",
      "INFO:tensorflow:global_step/sec: 167.436\n",
      "INFO:tensorflow:step = 14401, loss = 55.7453 (0.597 sec)\n",
      "INFO:tensorflow:global_step/sec: 167.845\n",
      "INFO:tensorflow:step = 14501, loss = 46.5872 (0.596 sec)\n",
      "INFO:tensorflow:global_step/sec: 168.945\n",
      "INFO:tensorflow:step = 14601, loss = 38.1545 (0.592 sec)\n",
      "INFO:tensorflow:global_step/sec: 166.429\n",
      "INFO:tensorflow:step = 14701, loss = 33.0194 (0.601 sec)\n",
      "INFO:tensorflow:global_step/sec: 165.944\n",
      "INFO:tensorflow:step = 14801, loss = 32.3447 (0.603 sec)\n",
      "INFO:tensorflow:global_step/sec: 170.743\n",
      "INFO:tensorflow:step = 14901, loss = 72.6937 (0.586 sec)\n",
      "INFO:tensorflow:global_step/sec: 163.236\n",
      "INFO:tensorflow:step = 15001, loss = 38.279 (0.613 sec)\n",
      "INFO:tensorflow:global_step/sec: 163.014\n",
      "INFO:tensorflow:step = 15101, loss = 22.7984 (0.613 sec)\n",
      "INFO:tensorflow:global_step/sec: 163.722\n",
      "INFO:tensorflow:step = 15201, loss = 37.1882 (0.611 sec)\n",
      "INFO:tensorflow:global_step/sec: 164.729\n",
      "INFO:tensorflow:step = 15301, loss = 34.3774 (0.607 sec)\n",
      "INFO:tensorflow:global_step/sec: 162.908\n",
      "INFO:tensorflow:step = 15401, loss = 70.9549 (0.614 sec)\n",
      "INFO:tensorflow:global_step/sec: 164.555\n",
      "INFO:tensorflow:step = 15501, loss = 39.1642 (0.608 sec)\n",
      "INFO:tensorflow:global_step/sec: 174.396\n",
      "INFO:tensorflow:step = 15601, loss = 43.9017 (0.573 sec)\n",
      "INFO:tensorflow:global_step/sec: 167.137\n",
      "INFO:tensorflow:step = 15701, loss = 27.4684 (0.598 sec)\n",
      "INFO:tensorflow:global_step/sec: 167.959\n",
      "INFO:tensorflow:step = 15801, loss = 43.6295 (0.595 sec)\n",
      "INFO:tensorflow:global_step/sec: 168.508\n",
      "INFO:tensorflow:step = 15901, loss = 28.3798 (0.594 sec)\n",
      "INFO:tensorflow:global_step/sec: 165.376\n",
      "INFO:tensorflow:step = 16001, loss = 43.7918 (0.605 sec)\n",
      "INFO:tensorflow:global_step/sec: 174.06\n",
      "INFO:tensorflow:step = 16101, loss = 93.0989 (0.575 sec)\n",
      "INFO:tensorflow:global_step/sec: 162.697\n",
      "INFO:tensorflow:step = 16201, loss = 62.4985 (0.615 sec)\n",
      "INFO:tensorflow:global_step/sec: 163.47\n",
      "INFO:tensorflow:step = 16301, loss = 44.7147 (0.612 sec)\n",
      "INFO:tensorflow:global_step/sec: 165.07\n",
      "INFO:tensorflow:step = 16401, loss = 42.1152 (0.606 sec)\n",
      "INFO:tensorflow:global_step/sec: 161.785\n",
      "INFO:tensorflow:step = 16501, loss = 24.0783 (0.618 sec)\n",
      "INFO:tensorflow:global_step/sec: 164.419\n",
      "INFO:tensorflow:step = 16601, loss = 27.4479 (0.608 sec)\n",
      "INFO:tensorflow:global_step/sec: 165.005\n",
      "INFO:tensorflow:step = 16701, loss = 27.2154 (0.606 sec)\n",
      "INFO:tensorflow:global_step/sec: 168.781\n",
      "INFO:tensorflow:step = 16801, loss = 39.6247 (0.593 sec)\n",
      "INFO:tensorflow:global_step/sec: 168.318\n",
      "INFO:tensorflow:step = 16901, loss = 29.0362 (0.594 sec)\n",
      "INFO:tensorflow:global_step/sec: 167.57\n",
      "INFO:tensorflow:step = 17001, loss = 25.1702 (0.597 sec)\n",
      "INFO:tensorflow:global_step/sec: 167.249\n",
      "INFO:tensorflow:step = 17101, loss = 28.0538 (0.598 sec)\n",
      "INFO:tensorflow:global_step/sec: 166.999\n",
      "INFO:tensorflow:step = 17201, loss = 34.6487 (0.599 sec)\n",
      "INFO:tensorflow:global_step/sec: 160.224\n",
      "INFO:tensorflow:step = 17301, loss = 37.5842 (0.624 sec)\n",
      "INFO:tensorflow:global_step/sec: 163.414\n",
      "INFO:tensorflow:step = 17401, loss = 34.5527 (0.612 sec)\n",
      "INFO:tensorflow:global_step/sec: 163.775\n",
      "INFO:tensorflow:step = 17501, loss = 54.3309 (0.611 sec)\n",
      "INFO:tensorflow:global_step/sec: 162.858\n",
      "INFO:tensorflow:step = 17601, loss = 28.418 (0.614 sec)\n",
      "INFO:tensorflow:global_step/sec: 162.143\n",
      "INFO:tensorflow:step = 17701, loss = 337.721 (0.617 sec)\n",
      "INFO:tensorflow:global_step/sec: 164.454\n",
      "INFO:tensorflow:step = 17801, loss = 113.095 (0.608 sec)\n",
      "INFO:tensorflow:global_step/sec: 164.892\n",
      "INFO:tensorflow:step = 17901, loss = 20.4487 (0.607 sec)\n",
      "INFO:tensorflow:global_step/sec: 167.274\n",
      "INFO:tensorflow:step = 18001, loss = 26.6075 (0.598 sec)\n",
      "INFO:tensorflow:global_step/sec: 170.217\n",
      "INFO:tensorflow:step = 18101, loss = 27.0573 (0.588 sec)\n",
      "INFO:tensorflow:global_step/sec: 163.811\n",
      "INFO:tensorflow:step = 18201, loss = 28.0257 (0.610 sec)\n",
      "INFO:tensorflow:global_step/sec: 164.321\n",
      "INFO:tensorflow:step = 18301, loss = 65.5311 (0.609 sec)\n",
      "INFO:tensorflow:global_step/sec: 162.866\n",
      "INFO:tensorflow:step = 18401, loss = 37.5274 (0.614 sec)\n",
      "INFO:tensorflow:global_step/sec: 169.449\n",
      "INFO:tensorflow:step = 18501, loss = 35.9804 (0.590 sec)\n",
      "INFO:tensorflow:global_step/sec: 170.688\n"
     ]
    },
    {
     "name": "stdout",
     "output_type": "stream",
     "text": [
      "INFO:tensorflow:step = 18601, loss = 36.7745 (0.586 sec)\n",
      "INFO:tensorflow:global_step/sec: 168.027\n",
      "INFO:tensorflow:step = 18701, loss = 37.6207 (0.595 sec)\n",
      "INFO:tensorflow:global_step/sec: 163.896\n",
      "INFO:tensorflow:step = 18801, loss = 38.7191 (0.610 sec)\n",
      "INFO:tensorflow:global_step/sec: 161.916\n",
      "INFO:tensorflow:step = 18901, loss = 30.0858 (0.618 sec)\n",
      "INFO:tensorflow:global_step/sec: 163.068\n",
      "INFO:tensorflow:step = 19001, loss = 21.2462 (0.613 sec)\n",
      "INFO:tensorflow:global_step/sec: 162.399\n",
      "INFO:tensorflow:step = 19101, loss = 49.0121 (0.616 sec)\n",
      "INFO:tensorflow:global_step/sec: 165.235\n",
      "INFO:tensorflow:step = 19201, loss = 46.4197 (0.605 sec)\n",
      "INFO:tensorflow:global_step/sec: 166.473\n",
      "INFO:tensorflow:step = 19301, loss = 31.8609 (0.601 sec)\n",
      "INFO:tensorflow:global_step/sec: 165.238\n",
      "INFO:tensorflow:step = 19401, loss = 38.8551 (0.605 sec)\n",
      "INFO:tensorflow:global_step/sec: 165.622\n",
      "INFO:tensorflow:step = 19501, loss = 22.411 (0.604 sec)\n",
      "INFO:tensorflow:global_step/sec: 168.193\n",
      "INFO:tensorflow:step = 19601, loss = 208.277 (0.595 sec)\n",
      "INFO:tensorflow:global_step/sec: 167.923\n",
      "INFO:tensorflow:step = 19701, loss = 34.2219 (0.595 sec)\n",
      "INFO:tensorflow:global_step/sec: 170.24\n",
      "INFO:tensorflow:step = 19801, loss = 28.8825 (0.587 sec)\n",
      "INFO:tensorflow:global_step/sec: 164.626\n",
      "INFO:tensorflow:step = 19901, loss = 51.8134 (0.607 sec)\n",
      "INFO:tensorflow:global_step/sec: 164.361\n",
      "INFO:tensorflow:step = 20001, loss = 28.4858 (0.609 sec)\n",
      "INFO:tensorflow:global_step/sec: 164.688\n",
      "INFO:tensorflow:step = 20101, loss = 39.2478 (0.607 sec)\n",
      "INFO:tensorflow:global_step/sec: 162.768\n",
      "INFO:tensorflow:step = 20201, loss = 36.4118 (0.614 sec)\n",
      "INFO:tensorflow:global_step/sec: 169.884\n",
      "INFO:tensorflow:step = 20301, loss = 38.9783 (0.589 sec)\n",
      "INFO:tensorflow:global_step/sec: 164.599\n",
      "INFO:tensorflow:step = 20401, loss = 48.7314 (0.608 sec)\n",
      "INFO:tensorflow:global_step/sec: 165.05\n",
      "INFO:tensorflow:step = 20501, loss = 28.8879 (0.606 sec)\n",
      "INFO:tensorflow:global_step/sec: 160.044\n",
      "INFO:tensorflow:step = 20601, loss = 30.8228 (0.625 sec)\n",
      "INFO:tensorflow:global_step/sec: 162.556\n",
      "INFO:tensorflow:step = 20701, loss = 31.9947 (0.615 sec)\n",
      "INFO:tensorflow:global_step/sec: 164.932\n",
      "INFO:tensorflow:step = 20801, loss = 39.0583 (0.606 sec)\n",
      "INFO:tensorflow:global_step/sec: 163.89\n",
      "INFO:tensorflow:step = 20901, loss = 30.6601 (0.610 sec)\n",
      "INFO:tensorflow:global_step/sec: 163.614\n",
      "INFO:tensorflow:step = 21001, loss = 29.1881 (0.611 sec)\n",
      "INFO:tensorflow:global_step/sec: 168.699\n",
      "INFO:tensorflow:step = 21101, loss = 29.1759 (0.593 sec)\n",
      "INFO:tensorflow:global_step/sec: 166.952\n",
      "INFO:tensorflow:step = 21201, loss = 90.5908 (0.599 sec)\n",
      "INFO:tensorflow:global_step/sec: 166.594\n",
      "INFO:tensorflow:step = 21301, loss = 46.1526 (0.600 sec)\n",
      "INFO:tensorflow:global_step/sec: 161.139\n",
      "INFO:tensorflow:step = 21401, loss = 40.6226 (0.621 sec)\n",
      "INFO:tensorflow:global_step/sec: 162.173\n",
      "INFO:tensorflow:step = 21501, loss = 101.764 (0.617 sec)\n",
      "INFO:tensorflow:global_step/sec: 163.233\n",
      "INFO:tensorflow:step = 21601, loss = 40.2586 (0.613 sec)\n",
      "INFO:tensorflow:global_step/sec: 163.573\n",
      "INFO:tensorflow:step = 21701, loss = 18.9813 (0.611 sec)\n",
      "INFO:tensorflow:global_step/sec: 164.079\n",
      "INFO:tensorflow:step = 21801, loss = 35.9866 (0.610 sec)\n",
      "INFO:tensorflow:global_step/sec: 162.637\n",
      "INFO:tensorflow:step = 21901, loss = 34.0113 (0.615 sec)\n",
      "INFO:tensorflow:Saving checkpoints for 22000 into /var/folders/n_/yc8w5lvd0939ndnjzj5wm8mr0000gn/T/tmpug6vqbsu/model.ckpt.\n",
      "INFO:tensorflow:Loss for final step: 33.8704.\n"
     ]
    },
    {
     "data": {
      "text/plain": [
       "<tensorflow.python.estimator.canned.linear.LinearClassifier at 0x121642a90>"
      ]
     },
     "execution_count": 44,
     "metadata": {},
     "output_type": "execute_result"
    }
   ],
   "source": [
    "lin_model.train(input_fn=input_func, steps=20000)"
   ]
  },
  {
   "cell_type": "markdown",
   "metadata": {},
   "source": [
    "## Evaluate"
   ]
  },
  {
   "cell_type": "markdown",
   "metadata": {},
   "source": [
    "### Predict"
   ]
  },
  {
   "cell_type": "code",
   "execution_count": 45,
   "metadata": {
    "collapsed": true
   },
   "outputs": [],
   "source": [
    "# eval_func  = tf.estimator.inputs.pandas_input_fn(x=X_test,  y=y_test,  batch_size=100, shuffle=False)\n",
    "pred_func  = tf.estimator.inputs.pandas_input_fn(x=X_test,  batch_size=X_test.shape[0], shuffle=False)"
   ]
  },
  {
   "cell_type": "code",
   "execution_count": 46,
   "metadata": {},
   "outputs": [
    {
     "data": {
      "text/plain": [
       "<generator object Estimator.predict at 0x12087e8e0>"
      ]
     },
     "execution_count": 46,
     "metadata": {},
     "output_type": "execute_result"
    }
   ],
   "source": [
    "y_pred_gen = lin_model.predict(input_fn=pred_func)\n",
    "y_pred_gen"
   ]
  },
  {
   "cell_type": "code",
   "execution_count": 47,
   "metadata": {},
   "outputs": [
    {
     "name": "stdout",
     "output_type": "stream",
     "text": [
      "INFO:tensorflow:Restoring parameters from /var/folders/n_/yc8w5lvd0939ndnjzj5wm8mr0000gn/T/tmpug6vqbsu/model.ckpt-22000\n"
     ]
    }
   ],
   "source": [
    "y_pred = [pred['class_ids'][0] for pred in y_pred_gen]"
   ]
  },
  {
   "cell_type": "markdown",
   "metadata": {},
   "source": [
    "### Evaluate"
   ]
  },
  {
   "cell_type": "code",
   "execution_count": 48,
   "metadata": {
    "collapsed": true
   },
   "outputs": [],
   "source": [
    "from sklearn.metrics import classification_report"
   ]
  },
  {
   "cell_type": "code",
   "execution_count": 49,
   "metadata": {},
   "outputs": [
    {
     "name": "stdout",
     "output_type": "stream",
     "text": [
      "             precision    recall  f1-score   support\n",
      "\n",
      "          0       0.89      0.92      0.90      7436\n",
      "          1       0.70      0.64      0.67      2333\n",
      "\n",
      "avg / total       0.85      0.85      0.85      9769\n",
      "\n"
     ]
    }
   ],
   "source": [
    "print(classification_report(y_test, y_pred))"
   ]
  }
 ],
 "metadata": {
  "kernelspec": {
   "display_name": "Python 3",
   "language": "python",
   "name": "python3"
  },
  "language_info": {
   "codemirror_mode": {
    "name": "ipython",
    "version": 3
   },
   "file_extension": ".py",
   "mimetype": "text/x-python",
   "name": "python",
   "nbconvert_exporter": "python",
   "pygments_lexer": "ipython3",
   "version": "3.5.4"
  }
 },
 "nbformat": 4,
 "nbformat_minor": 2
}
