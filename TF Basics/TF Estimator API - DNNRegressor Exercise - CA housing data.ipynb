{
 "cells": [
  {
   "cell_type": "markdown",
   "metadata": {},
   "source": [
    "# Regression Exercise \n",
    "\n",
    "California Housing Data\n",
    "\n",
    "This data set contains information about all the block groups in California from the 1990 Census. In this sample a block group on average includes 1425.5 individuals living in a geographically compact area. \n",
    "\n",
    "The task is to aproximate the median house value of each block from the values of the rest of the variables. \n",
    "\n",
    " It has been obtained from the LIACC repository. The original page where the data set can be found is: http://www.liaad.up.pt/~ltorgo/Regression/DataSets.html.\n",
    " "
   ]
  },
  {
   "cell_type": "markdown",
   "metadata": {
    "collapsed": true
   },
   "source": [
    "The Features:\n",
    " \n",
    "* housingMedianAge: continuous. \n",
    "* totalRooms: continuous. \n",
    "* totalBedrooms: continuous. \n",
    "* population: continuous. \n",
    "* households: continuous. \n",
    "* medianIncome: continuous. \n",
    "* medianHouseValue: continuous. "
   ]
  },
  {
   "cell_type": "markdown",
   "metadata": {},
   "source": [
    "## The Data"
   ]
  },
  {
   "cell_type": "markdown",
   "metadata": {},
   "source": [
    "** Import the cal_housing_clean.csv file with pandas. Separate it into a training (70%) and testing set(30%).**"
   ]
  },
  {
   "cell_type": "code",
   "execution_count": 54,
   "metadata": {
    "collapsed": true
   },
   "outputs": [],
   "source": [
    "import numpy as np\n",
    "import pandas as pd\n",
    "import tensorflow as tf"
   ]
  },
  {
   "cell_type": "code",
   "execution_count": 55,
   "metadata": {},
   "outputs": [
    {
     "data": {
      "text/plain": [
       "(20640, 7)"
      ]
     },
     "execution_count": 55,
     "metadata": {},
     "output_type": "execute_result"
    }
   ],
   "source": [
    "housing = pd.read_csv('cal_housing_clean.csv')\n",
    "housing.shape"
   ]
  },
  {
   "cell_type": "code",
   "execution_count": 56,
   "metadata": {},
   "outputs": [
    {
     "data": {
      "text/html": [
       "<div>\n",
       "<style>\n",
       "    .dataframe thead tr:only-child th {\n",
       "        text-align: right;\n",
       "    }\n",
       "\n",
       "    .dataframe thead th {\n",
       "        text-align: left;\n",
       "    }\n",
       "\n",
       "    .dataframe tbody tr th {\n",
       "        vertical-align: top;\n",
       "    }\n",
       "</style>\n",
       "<table border=\"1\" class=\"dataframe\">\n",
       "  <thead>\n",
       "    <tr style=\"text-align: right;\">\n",
       "      <th></th>\n",
       "      <th>housingMedianAge</th>\n",
       "      <th>totalRooms</th>\n",
       "      <th>totalBedrooms</th>\n",
       "      <th>population</th>\n",
       "      <th>households</th>\n",
       "      <th>medianIncome</th>\n",
       "      <th>medianHouseValue</th>\n",
       "    </tr>\n",
       "  </thead>\n",
       "  <tbody>\n",
       "    <tr>\n",
       "      <th>0</th>\n",
       "      <td>41.0</td>\n",
       "      <td>880.0</td>\n",
       "      <td>129.0</td>\n",
       "      <td>322.0</td>\n",
       "      <td>126.0</td>\n",
       "      <td>8.3252</td>\n",
       "      <td>452600.0</td>\n",
       "    </tr>\n",
       "    <tr>\n",
       "      <th>1</th>\n",
       "      <td>21.0</td>\n",
       "      <td>7099.0</td>\n",
       "      <td>1106.0</td>\n",
       "      <td>2401.0</td>\n",
       "      <td>1138.0</td>\n",
       "      <td>8.3014</td>\n",
       "      <td>358500.0</td>\n",
       "    </tr>\n",
       "    <tr>\n",
       "      <th>2</th>\n",
       "      <td>52.0</td>\n",
       "      <td>1467.0</td>\n",
       "      <td>190.0</td>\n",
       "      <td>496.0</td>\n",
       "      <td>177.0</td>\n",
       "      <td>7.2574</td>\n",
       "      <td>352100.0</td>\n",
       "    </tr>\n",
       "    <tr>\n",
       "      <th>3</th>\n",
       "      <td>52.0</td>\n",
       "      <td>1274.0</td>\n",
       "      <td>235.0</td>\n",
       "      <td>558.0</td>\n",
       "      <td>219.0</td>\n",
       "      <td>5.6431</td>\n",
       "      <td>341300.0</td>\n",
       "    </tr>\n",
       "    <tr>\n",
       "      <th>4</th>\n",
       "      <td>52.0</td>\n",
       "      <td>1627.0</td>\n",
       "      <td>280.0</td>\n",
       "      <td>565.0</td>\n",
       "      <td>259.0</td>\n",
       "      <td>3.8462</td>\n",
       "      <td>342200.0</td>\n",
       "    </tr>\n",
       "  </tbody>\n",
       "</table>\n",
       "</div>"
      ],
      "text/plain": [
       "   housingMedianAge  totalRooms  totalBedrooms  population  households  \\\n",
       "0              41.0       880.0          129.0       322.0       126.0   \n",
       "1              21.0      7099.0         1106.0      2401.0      1138.0   \n",
       "2              52.0      1467.0          190.0       496.0       177.0   \n",
       "3              52.0      1274.0          235.0       558.0       219.0   \n",
       "4              52.0      1627.0          280.0       565.0       259.0   \n",
       "\n",
       "   medianIncome  medianHouseValue  \n",
       "0        8.3252          452600.0  \n",
       "1        8.3014          358500.0  \n",
       "2        7.2574          352100.0  \n",
       "3        5.6431          341300.0  \n",
       "4        3.8462          342200.0  "
      ]
     },
     "execution_count": 56,
     "metadata": {},
     "output_type": "execute_result"
    }
   ],
   "source": [
    "housing.head()"
   ]
  },
  {
   "cell_type": "code",
   "execution_count": 57,
   "metadata": {
    "scrolled": true
   },
   "outputs": [
    {
     "data": {
      "text/html": [
       "<div>\n",
       "<style>\n",
       "    .dataframe thead tr:only-child th {\n",
       "        text-align: right;\n",
       "    }\n",
       "\n",
       "    .dataframe thead th {\n",
       "        text-align: left;\n",
       "    }\n",
       "\n",
       "    .dataframe tbody tr th {\n",
       "        vertical-align: top;\n",
       "    }\n",
       "</style>\n",
       "<table border=\"1\" class=\"dataframe\">\n",
       "  <thead>\n",
       "    <tr style=\"text-align: right;\">\n",
       "      <th></th>\n",
       "      <th>housingMedianAge</th>\n",
       "      <th>totalRooms</th>\n",
       "      <th>totalBedrooms</th>\n",
       "      <th>population</th>\n",
       "      <th>households</th>\n",
       "      <th>medianIncome</th>\n",
       "      <th>medianHouseValue</th>\n",
       "    </tr>\n",
       "  </thead>\n",
       "  <tbody>\n",
       "    <tr>\n",
       "      <th>count</th>\n",
       "      <td>20640.000000</td>\n",
       "      <td>20640.000000</td>\n",
       "      <td>20640.000000</td>\n",
       "      <td>20640.000000</td>\n",
       "      <td>20640.000000</td>\n",
       "      <td>20640.000000</td>\n",
       "      <td>20640.000000</td>\n",
       "    </tr>\n",
       "    <tr>\n",
       "      <th>mean</th>\n",
       "      <td>28.639486</td>\n",
       "      <td>2635.763081</td>\n",
       "      <td>537.898014</td>\n",
       "      <td>1425.476744</td>\n",
       "      <td>499.539680</td>\n",
       "      <td>3.870671</td>\n",
       "      <td>206855.816909</td>\n",
       "    </tr>\n",
       "    <tr>\n",
       "      <th>std</th>\n",
       "      <td>12.585558</td>\n",
       "      <td>2181.615252</td>\n",
       "      <td>421.247906</td>\n",
       "      <td>1132.462122</td>\n",
       "      <td>382.329753</td>\n",
       "      <td>1.899822</td>\n",
       "      <td>115395.615874</td>\n",
       "    </tr>\n",
       "    <tr>\n",
       "      <th>min</th>\n",
       "      <td>1.000000</td>\n",
       "      <td>2.000000</td>\n",
       "      <td>1.000000</td>\n",
       "      <td>3.000000</td>\n",
       "      <td>1.000000</td>\n",
       "      <td>0.499900</td>\n",
       "      <td>14999.000000</td>\n",
       "    </tr>\n",
       "    <tr>\n",
       "      <th>25%</th>\n",
       "      <td>18.000000</td>\n",
       "      <td>1447.750000</td>\n",
       "      <td>295.000000</td>\n",
       "      <td>787.000000</td>\n",
       "      <td>280.000000</td>\n",
       "      <td>2.563400</td>\n",
       "      <td>119600.000000</td>\n",
       "    </tr>\n",
       "    <tr>\n",
       "      <th>50%</th>\n",
       "      <td>29.000000</td>\n",
       "      <td>2127.000000</td>\n",
       "      <td>435.000000</td>\n",
       "      <td>1166.000000</td>\n",
       "      <td>409.000000</td>\n",
       "      <td>3.534800</td>\n",
       "      <td>179700.000000</td>\n",
       "    </tr>\n",
       "    <tr>\n",
       "      <th>75%</th>\n",
       "      <td>37.000000</td>\n",
       "      <td>3148.000000</td>\n",
       "      <td>647.000000</td>\n",
       "      <td>1725.000000</td>\n",
       "      <td>605.000000</td>\n",
       "      <td>4.743250</td>\n",
       "      <td>264725.000000</td>\n",
       "    </tr>\n",
       "    <tr>\n",
       "      <th>max</th>\n",
       "      <td>52.000000</td>\n",
       "      <td>39320.000000</td>\n",
       "      <td>6445.000000</td>\n",
       "      <td>35682.000000</td>\n",
       "      <td>6082.000000</td>\n",
       "      <td>15.000100</td>\n",
       "      <td>500001.000000</td>\n",
       "    </tr>\n",
       "  </tbody>\n",
       "</table>\n",
       "</div>"
      ],
      "text/plain": [
       "       housingMedianAge    totalRooms  totalBedrooms    population  \\\n",
       "count      20640.000000  20640.000000   20640.000000  20640.000000   \n",
       "mean          28.639486   2635.763081     537.898014   1425.476744   \n",
       "std           12.585558   2181.615252     421.247906   1132.462122   \n",
       "min            1.000000      2.000000       1.000000      3.000000   \n",
       "25%           18.000000   1447.750000     295.000000    787.000000   \n",
       "50%           29.000000   2127.000000     435.000000   1166.000000   \n",
       "75%           37.000000   3148.000000     647.000000   1725.000000   \n",
       "max           52.000000  39320.000000    6445.000000  35682.000000   \n",
       "\n",
       "         households  medianIncome  medianHouseValue  \n",
       "count  20640.000000  20640.000000      20640.000000  \n",
       "mean     499.539680      3.870671     206855.816909  \n",
       "std      382.329753      1.899822     115395.615874  \n",
       "min        1.000000      0.499900      14999.000000  \n",
       "25%      280.000000      2.563400     119600.000000  \n",
       "50%      409.000000      3.534800     179700.000000  \n",
       "75%      605.000000      4.743250     264725.000000  \n",
       "max     6082.000000     15.000100     500001.000000  "
      ]
     },
     "execution_count": 57,
     "metadata": {},
     "output_type": "execute_result"
    }
   ],
   "source": [
    "housing.describe()"
   ]
  },
  {
   "cell_type": "code",
   "execution_count": 58,
   "metadata": {
    "collapsed": true,
    "scrolled": true
   },
   "outputs": [],
   "source": [
    "from sklearn.model_selection import train_test_split"
   ]
  },
  {
   "cell_type": "code",
   "execution_count": 59,
   "metadata": {
    "collapsed": true
   },
   "outputs": [],
   "source": [
    "X = housing.drop('medianHouseValue', axis=1)\n",
    "y = housing.medianHouseValue"
   ]
  },
  {
   "cell_type": "code",
   "execution_count": 60,
   "metadata": {},
   "outputs": [
    {
     "name": "stdout",
     "output_type": "stream",
     "text": [
      "(14448, 6) (6192, 6)\n",
      "(14448,) (6192,)\n"
     ]
    }
   ],
   "source": [
    "X_train, X_test, y_train, y_test = train_test_split(X, y, test_size=0.3)\n",
    "print(X_train.shape, X_test.shape)\n",
    "print(y_train.shape, y_test.shape)"
   ]
  },
  {
   "cell_type": "markdown",
   "metadata": {},
   "source": [
    "### Scale the Feature Data\n",
    "\n",
    "** Use sklearn preprocessing to create a MinMaxScaler for the feature data. Fit this scaler only to the training data. Then use it to transform X_test and X_train. Then use the scaled X_test and X_train along with pd.Dataframe to re-create two dataframes of scaled data.**"
   ]
  },
  {
   "cell_type": "code",
   "execution_count": 61,
   "metadata": {
    "collapsed": true
   },
   "outputs": [],
   "source": [
    "from sklearn.preprocessing import MinMaxScaler"
   ]
  },
  {
   "cell_type": "code",
   "execution_count": 62,
   "metadata": {
    "collapsed": true
   },
   "outputs": [],
   "source": [
    "xscaler = MinMaxScaler().fit(X_train)"
   ]
  },
  {
   "cell_type": "code",
   "execution_count": 69,
   "metadata": {},
   "outputs": [
    {
     "data": {
      "text/plain": [
       "(14448, 6)"
      ]
     },
     "execution_count": 69,
     "metadata": {},
     "output_type": "execute_result"
    }
   ],
   "source": [
    "X_train_scaled = pd.DataFrame(xscaler.transform(X_train), \n",
    "                              columns=[col+'_scaled' for col in X_train.columns], \n",
    "                              index=X_train.index)\n",
    "X_train_scaled.shape"
   ]
  },
  {
   "cell_type": "code",
   "execution_count": 70,
   "metadata": {},
   "outputs": [
    {
     "data": {
      "text/plain": [
       "(6192, 6)"
      ]
     },
     "execution_count": 70,
     "metadata": {},
     "output_type": "execute_result"
    }
   ],
   "source": [
    "X_test_scaled = pd.DataFrame(xscaler.transform(X_test), \n",
    "                             columns=[col+'_scaled' for col in X_test.columns], \n",
    "                             index=X_test.index)\n",
    "X_test_scaled.shape"
   ]
  },
  {
   "cell_type": "markdown",
   "metadata": {},
   "source": [
    "### Create Feature Columns\n",
    "\n",
    "** Create the necessary tf.feature_column objects for the estimator. They should all be trated as continuous numeric_columns. **"
   ]
  },
  {
   "cell_type": "code",
   "execution_count": 78,
   "metadata": {},
   "outputs": [
    {
     "data": {
      "text/plain": [
       "[_NumericColumn(key='housingMedianAge_scaled', shape=(1,), default_value=None, dtype=tf.float32, normalizer_fn=None),\n",
       " _NumericColumn(key='totalRooms_scaled', shape=(1,), default_value=None, dtype=tf.float32, normalizer_fn=None),\n",
       " _NumericColumn(key='totalBedrooms_scaled', shape=(1,), default_value=None, dtype=tf.float32, normalizer_fn=None),\n",
       " _NumericColumn(key='population_scaled', shape=(1,), default_value=None, dtype=tf.float32, normalizer_fn=None),\n",
       " _NumericColumn(key='households_scaled', shape=(1,), default_value=None, dtype=tf.float32, normalizer_fn=None),\n",
       " _NumericColumn(key='medianIncome_scaled', shape=(1,), default_value=None, dtype=tf.float32, normalizer_fn=None)]"
      ]
     },
     "execution_count": 78,
     "metadata": {},
     "output_type": "execute_result"
    }
   ],
   "source": [
    "feat_cols = [tf.feature_column.numeric_column(col) for col in X_train_scaled.columns]\n",
    "feat_cols"
   ]
  },
  {
   "cell_type": "markdown",
   "metadata": {},
   "source": [
    "** Create the input function for the estimator object. (play around with batch_size and num_epochs)**"
   ]
  },
  {
   "cell_type": "code",
   "execution_count": 79,
   "metadata": {
    "collapsed": true
   },
   "outputs": [],
   "source": [
    "input_func = tf.estimator.inputs.pandas_input_fn(x=X_train_scaled, y=y_train, \n",
    "                                                batch_size=10, num_epochs=1000, shuffle=True)"
   ]
  },
  {
   "cell_type": "markdown",
   "metadata": {},
   "source": [
    "** Create the estimator model. Use a DNNRegressor. Play around with the hidden units! **"
   ]
  },
  {
   "cell_type": "code",
   "execution_count": 80,
   "metadata": {},
   "outputs": [
    {
     "name": "stdout",
     "output_type": "stream",
     "text": [
      "INFO:tensorflow:Using default config.\n",
      "WARNING:tensorflow:Using temporary folder as model directory: /var/folders/n_/yc8w5lvd0939ndnjzj5wm8mr0000gn/T/tmpdf3o2s_2\n",
      "INFO:tensorflow:Using config: {'_log_step_count_steps': 100, '_tf_random_seed': 1, '_session_config': None, '_save_checkpoints_secs': 600, '_save_checkpoints_steps': None, '_keep_checkpoint_max': 5, '_model_dir': '/var/folders/n_/yc8w5lvd0939ndnjzj5wm8mr0000gn/T/tmpdf3o2s_2', '_save_summary_steps': 100, '_keep_checkpoint_every_n_hours': 10000}\n"
     ]
    }
   ],
   "source": [
    "dnn_model = tf.estimator.DNNRegressor(hidden_units=[6,6,6], feature_columns=feat_cols)"
   ]
  },
  {
   "cell_type": "markdown",
   "metadata": {},
   "source": [
    "##### ** Train the model for ~1,000 steps. (Later come back to this and train it for more and check for improvement) **"
   ]
  },
  {
   "cell_type": "code",
   "execution_count": 93,
   "metadata": {
    "scrolled": false
   },
   "outputs": [
    {
     "name": "stdout",
     "output_type": "stream",
     "text": [
      "INFO:tensorflow:Create CheckpointSaverHook.\n",
      "INFO:tensorflow:Restoring parameters from /var/folders/n_/yc8w5lvd0939ndnjzj5wm8mr0000gn/T/tmpdf3o2s_2/model.ckpt-1000\n",
      "INFO:tensorflow:Saving checkpoints for 1001 into /var/folders/n_/yc8w5lvd0939ndnjzj5wm8mr0000gn/T/tmpdf3o2s_2/model.ckpt.\n",
      "INFO:tensorflow:step = 1001, loss = 3.37499e+11\n",
      "INFO:tensorflow:global_step/sec: 619.613\n",
      "INFO:tensorflow:step = 1101, loss = 2.30776e+11 (0.162 sec)\n",
      "INFO:tensorflow:global_step/sec: 594.686\n",
      "INFO:tensorflow:step = 1201, loss = 1.43816e+11 (0.168 sec)\n",
      "INFO:tensorflow:global_step/sec: 640.8\n",
      "INFO:tensorflow:step = 1301, loss = 1.79766e+11 (0.156 sec)\n",
      "INFO:tensorflow:global_step/sec: 582.001\n",
      "INFO:tensorflow:step = 1401, loss = 2.13569e+11 (0.172 sec)\n",
      "INFO:tensorflow:global_step/sec: 648.013\n",
      "INFO:tensorflow:step = 1501, loss = 4.3805e+11 (0.154 sec)\n",
      "INFO:tensorflow:global_step/sec: 619.087\n",
      "INFO:tensorflow:step = 1601, loss = 2.2981e+11 (0.162 sec)\n",
      "INFO:tensorflow:global_step/sec: 602.25\n",
      "INFO:tensorflow:step = 1701, loss = 9.56475e+10 (0.166 sec)\n",
      "INFO:tensorflow:global_step/sec: 615.404\n",
      "INFO:tensorflow:step = 1801, loss = 1.84928e+11 (0.162 sec)\n",
      "INFO:tensorflow:global_step/sec: 700.088\n",
      "INFO:tensorflow:step = 1901, loss = 1.73056e+11 (0.143 sec)\n",
      "INFO:tensorflow:global_step/sec: 650.145\n",
      "INFO:tensorflow:step = 2001, loss = 6.6408e+10 (0.154 sec)\n",
      "INFO:tensorflow:global_step/sec: 718.149\n",
      "INFO:tensorflow:step = 2101, loss = 1.96204e+10 (0.139 sec)\n",
      "INFO:tensorflow:global_step/sec: 710.455\n",
      "INFO:tensorflow:step = 2201, loss = 6.05159e+10 (0.141 sec)\n",
      "INFO:tensorflow:global_step/sec: 531.392\n",
      "INFO:tensorflow:step = 2301, loss = 6.42361e+10 (0.189 sec)\n",
      "INFO:tensorflow:global_step/sec: 587.834\n",
      "INFO:tensorflow:step = 2401, loss = 9.61728e+10 (0.170 sec)\n",
      "INFO:tensorflow:global_step/sec: 626.273\n",
      "INFO:tensorflow:step = 2501, loss = 4.41462e+10 (0.161 sec)\n",
      "INFO:tensorflow:global_step/sec: 704.642\n",
      "INFO:tensorflow:step = 2601, loss = 5.27344e+10 (0.141 sec)\n",
      "INFO:tensorflow:global_step/sec: 631.102\n",
      "INFO:tensorflow:step = 2701, loss = 1.02187e+11 (0.158 sec)\n",
      "INFO:tensorflow:global_step/sec: 697.861\n",
      "INFO:tensorflow:step = 2801, loss = 1.58226e+11 (0.144 sec)\n",
      "INFO:tensorflow:global_step/sec: 719.001\n",
      "INFO:tensorflow:step = 2901, loss = 5.68124e+10 (0.139 sec)\n",
      "INFO:tensorflow:global_step/sec: 626.053\n",
      "INFO:tensorflow:step = 3001, loss = 1.43847e+11 (0.157 sec)\n",
      "INFO:tensorflow:global_step/sec: 690.66\n",
      "INFO:tensorflow:step = 3101, loss = 1.18674e+11 (0.145 sec)\n",
      "INFO:tensorflow:global_step/sec: 590.573\n",
      "INFO:tensorflow:step = 3201, loss = 1.10222e+11 (0.171 sec)\n",
      "INFO:tensorflow:global_step/sec: 550.515\n",
      "INFO:tensorflow:step = 3301, loss = 1.09367e+11 (0.183 sec)\n",
      "INFO:tensorflow:global_step/sec: 591.205\n",
      "INFO:tensorflow:step = 3401, loss = 7.59285e+10 (0.170 sec)\n",
      "INFO:tensorflow:global_step/sec: 603.34\n",
      "INFO:tensorflow:step = 3501, loss = 7.97537e+10 (0.162 sec)\n",
      "INFO:tensorflow:global_step/sec: 613.158\n",
      "INFO:tensorflow:step = 3601, loss = 8.19924e+10 (0.163 sec)\n",
      "INFO:tensorflow:global_step/sec: 616.595\n",
      "INFO:tensorflow:step = 3701, loss = 6.77247e+10 (0.162 sec)\n",
      "INFO:tensorflow:global_step/sec: 628.614\n",
      "INFO:tensorflow:step = 3801, loss = 8.57609e+10 (0.161 sec)\n",
      "INFO:tensorflow:global_step/sec: 592.659\n",
      "INFO:tensorflow:step = 3901, loss = 9.22037e+10 (0.170 sec)\n",
      "INFO:tensorflow:global_step/sec: 578.369\n",
      "INFO:tensorflow:step = 4001, loss = 8.3017e+10 (0.174 sec)\n",
      "INFO:tensorflow:global_step/sec: 595.652\n",
      "INFO:tensorflow:step = 4101, loss = 5.44714e+10 (0.168 sec)\n",
      "INFO:tensorflow:global_step/sec: 595.422\n",
      "INFO:tensorflow:step = 4201, loss = 5.27417e+10 (0.164 sec)\n",
      "INFO:tensorflow:global_step/sec: 569.768\n",
      "INFO:tensorflow:step = 4301, loss = 2.02432e+11 (0.178 sec)\n",
      "INFO:tensorflow:global_step/sec: 591.989\n",
      "INFO:tensorflow:step = 4401, loss = 9.06559e+10 (0.167 sec)\n",
      "INFO:tensorflow:global_step/sec: 612.122\n",
      "INFO:tensorflow:step = 4501, loss = 1.26927e+11 (0.164 sec)\n",
      "INFO:tensorflow:global_step/sec: 620.471\n",
      "INFO:tensorflow:step = 4601, loss = 4.40213e+10 (0.163 sec)\n",
      "INFO:tensorflow:global_step/sec: 609.402\n",
      "INFO:tensorflow:step = 4701, loss = 1.97421e+11 (0.161 sec)\n",
      "INFO:tensorflow:global_step/sec: 602.21\n",
      "INFO:tensorflow:step = 4801, loss = 8.76363e+10 (0.166 sec)\n",
      "INFO:tensorflow:global_step/sec: 617.681\n",
      "INFO:tensorflow:step = 4901, loss = 6.00389e+10 (0.162 sec)\n",
      "INFO:tensorflow:global_step/sec: 733.439\n",
      "INFO:tensorflow:step = 5001, loss = 1.34627e+11 (0.137 sec)\n",
      "INFO:tensorflow:global_step/sec: 590.016\n",
      "INFO:tensorflow:step = 5101, loss = 9.82446e+10 (0.170 sec)\n",
      "INFO:tensorflow:global_step/sec: 633.778\n",
      "INFO:tensorflow:step = 5201, loss = 1.07033e+11 (0.159 sec)\n",
      "INFO:tensorflow:global_step/sec: 611.176\n",
      "INFO:tensorflow:step = 5301, loss = 1.30048e+11 (0.163 sec)\n",
      "INFO:tensorflow:global_step/sec: 604.778\n",
      "INFO:tensorflow:step = 5401, loss = 9.24489e+10 (0.163 sec)\n",
      "INFO:tensorflow:global_step/sec: 612.539\n",
      "INFO:tensorflow:step = 5501, loss = 6.15508e+10 (0.165 sec)\n",
      "INFO:tensorflow:global_step/sec: 650.207\n",
      "INFO:tensorflow:step = 5601, loss = 1.3701e+11 (0.156 sec)\n",
      "INFO:tensorflow:global_step/sec: 664.576\n",
      "INFO:tensorflow:step = 5701, loss = 9.92085e+10 (0.147 sec)\n",
      "INFO:tensorflow:global_step/sec: 670.367\n",
      "INFO:tensorflow:step = 5801, loss = 1.83421e+11 (0.149 sec)\n",
      "INFO:tensorflow:global_step/sec: 618.563\n",
      "INFO:tensorflow:step = 5901, loss = 1.21769e+11 (0.161 sec)\n",
      "INFO:tensorflow:global_step/sec: 542.003\n",
      "INFO:tensorflow:step = 6001, loss = 7.06862e+10 (0.186 sec)\n",
      "INFO:tensorflow:global_step/sec: 564.857\n",
      "INFO:tensorflow:step = 6101, loss = 8.28344e+10 (0.177 sec)\n",
      "INFO:tensorflow:global_step/sec: 630.979\n",
      "INFO:tensorflow:step = 6201, loss = 1.16151e+11 (0.159 sec)\n",
      "INFO:tensorflow:global_step/sec: 728.163\n",
      "INFO:tensorflow:step = 6301, loss = 4.52041e+10 (0.137 sec)\n",
      "INFO:tensorflow:global_step/sec: 656.663\n",
      "INFO:tensorflow:step = 6401, loss = 9.57172e+10 (0.151 sec)\n",
      "INFO:tensorflow:global_step/sec: 664.218\n",
      "INFO:tensorflow:step = 6501, loss = 1.87799e+11 (0.153 sec)\n",
      "INFO:tensorflow:global_step/sec: 748.633\n",
      "INFO:tensorflow:step = 6601, loss = 7.79729e+10 (0.131 sec)\n",
      "INFO:tensorflow:global_step/sec: 790.938\n",
      "INFO:tensorflow:step = 6701, loss = 1.19084e+11 (0.128 sec)\n",
      "INFO:tensorflow:global_step/sec: 726.734\n",
      "INFO:tensorflow:step = 6801, loss = 6.24939e+10 (0.137 sec)\n",
      "INFO:tensorflow:global_step/sec: 764.093\n",
      "INFO:tensorflow:step = 6901, loss = 6.62078e+10 (0.131 sec)\n",
      "INFO:tensorflow:global_step/sec: 744.574\n",
      "INFO:tensorflow:step = 7001, loss = 1.22364e+11 (0.135 sec)\n",
      "INFO:tensorflow:global_step/sec: 761.766\n",
      "INFO:tensorflow:step = 7101, loss = 1.14835e+11 (0.130 sec)\n",
      "INFO:tensorflow:global_step/sec: 759.902\n",
      "INFO:tensorflow:step = 7201, loss = 3.18832e+10 (0.133 sec)\n",
      "INFO:tensorflow:global_step/sec: 706.334\n",
      "INFO:tensorflow:step = 7301, loss = 2.773e+11 (0.143 sec)\n",
      "INFO:tensorflow:global_step/sec: 554.164\n",
      "INFO:tensorflow:step = 7401, loss = 3.90326e+10 (0.179 sec)\n",
      "INFO:tensorflow:global_step/sec: 638.733\n",
      "INFO:tensorflow:step = 7501, loss = 7.17453e+10 (0.157 sec)\n",
      "INFO:tensorflow:global_step/sec: 650.885\n",
      "INFO:tensorflow:step = 7601, loss = 8.44057e+10 (0.153 sec)\n",
      "INFO:tensorflow:global_step/sec: 489.392\n",
      "INFO:tensorflow:step = 7701, loss = 9.45393e+10 (0.208 sec)\n",
      "INFO:tensorflow:global_step/sec: 496.85\n",
      "INFO:tensorflow:step = 7801, loss = 7.96538e+10 (0.199 sec)\n",
      "INFO:tensorflow:global_step/sec: 466.668\n",
      "INFO:tensorflow:step = 7901, loss = 1.53782e+11 (0.214 sec)\n",
      "INFO:tensorflow:global_step/sec: 478.103\n",
      "INFO:tensorflow:step = 8001, loss = 1.12171e+11 (0.208 sec)\n",
      "INFO:tensorflow:global_step/sec: 569.395\n",
      "INFO:tensorflow:step = 8101, loss = 2.91637e+11 (0.176 sec)\n",
      "INFO:tensorflow:global_step/sec: 571.591\n",
      "INFO:tensorflow:step = 8201, loss = 1.13617e+11 (0.175 sec)\n",
      "INFO:tensorflow:global_step/sec: 620.645\n",
      "INFO:tensorflow:step = 8301, loss = 2.60858e+10 (0.159 sec)\n",
      "INFO:tensorflow:global_step/sec: 565.95\n",
      "INFO:tensorflow:step = 8401, loss = 4.00443e+10 (0.179 sec)\n",
      "INFO:tensorflow:global_step/sec: 575.599\n",
      "INFO:tensorflow:step = 8501, loss = 6.1867e+10 (0.169 sec)\n",
      "INFO:tensorflow:global_step/sec: 694.991\n",
      "INFO:tensorflow:step = 8601, loss = 9.62206e+10 (0.146 sec)\n",
      "INFO:tensorflow:global_step/sec: 419.199\n",
      "INFO:tensorflow:step = 8701, loss = 1.87133e+11 (0.237 sec)\n",
      "INFO:tensorflow:global_step/sec: 566.323\n",
      "INFO:tensorflow:step = 8801, loss = 5.78868e+10 (0.176 sec)\n"
     ]
    },
    {
     "name": "stdout",
     "output_type": "stream",
     "text": [
      "INFO:tensorflow:global_step/sec: 593.827\n",
      "INFO:tensorflow:step = 8901, loss = 7.04869e+10 (0.168 sec)\n",
      "INFO:tensorflow:global_step/sec: 474.591\n",
      "INFO:tensorflow:step = 9001, loss = 7.67317e+10 (0.215 sec)\n",
      "INFO:tensorflow:global_step/sec: 558.656\n",
      "INFO:tensorflow:step = 9101, loss = 1.30535e+11 (0.177 sec)\n",
      "INFO:tensorflow:global_step/sec: 555.25\n",
      "INFO:tensorflow:step = 9201, loss = 1.48933e+11 (0.178 sec)\n",
      "INFO:tensorflow:global_step/sec: 557.982\n",
      "INFO:tensorflow:step = 9301, loss = 1.34846e+11 (0.180 sec)\n",
      "INFO:tensorflow:global_step/sec: 500.023\n",
      "INFO:tensorflow:step = 9401, loss = 5.98918e+10 (0.205 sec)\n",
      "INFO:tensorflow:global_step/sec: 626.555\n",
      "INFO:tensorflow:step = 9501, loss = 1.05588e+11 (0.155 sec)\n",
      "INFO:tensorflow:global_step/sec: 498.582\n",
      "INFO:tensorflow:step = 9601, loss = 3.62485e+10 (0.200 sec)\n",
      "INFO:tensorflow:global_step/sec: 602.471\n",
      "INFO:tensorflow:step = 9701, loss = 1.00388e+11 (0.165 sec)\n",
      "INFO:tensorflow:global_step/sec: 598.448\n",
      "INFO:tensorflow:step = 9801, loss = 2.6764e+10 (0.169 sec)\n",
      "INFO:tensorflow:global_step/sec: 476.735\n",
      "INFO:tensorflow:step = 9901, loss = 6.62055e+10 (0.209 sec)\n",
      "INFO:tensorflow:global_step/sec: 562.946\n",
      "INFO:tensorflow:step = 10001, loss = 1.95923e+11 (0.177 sec)\n",
      "INFO:tensorflow:global_step/sec: 500.483\n",
      "INFO:tensorflow:step = 10101, loss = 7.07252e+10 (0.204 sec)\n",
      "INFO:tensorflow:global_step/sec: 461.721\n",
      "INFO:tensorflow:step = 10201, loss = 6.43255e+10 (0.217 sec)\n",
      "INFO:tensorflow:global_step/sec: 504.017\n",
      "INFO:tensorflow:step = 10301, loss = 1.14976e+11 (0.197 sec)\n",
      "INFO:tensorflow:global_step/sec: 497.485\n",
      "INFO:tensorflow:step = 10401, loss = 9.04791e+10 (0.201 sec)\n",
      "INFO:tensorflow:global_step/sec: 474.255\n",
      "INFO:tensorflow:step = 10501, loss = 5.08104e+10 (0.210 sec)\n",
      "INFO:tensorflow:global_step/sec: 469.883\n",
      "INFO:tensorflow:step = 10601, loss = 1.12325e+11 (0.215 sec)\n",
      "INFO:tensorflow:global_step/sec: 483.604\n",
      "INFO:tensorflow:step = 10701, loss = 4.81797e+10 (0.206 sec)\n",
      "INFO:tensorflow:global_step/sec: 504.058\n",
      "INFO:tensorflow:step = 10801, loss = 9.79415e+10 (0.197 sec)\n",
      "INFO:tensorflow:global_step/sec: 490.122\n",
      "INFO:tensorflow:step = 10901, loss = 1.82588e+11 (0.206 sec)\n",
      "INFO:tensorflow:global_step/sec: 412.317\n",
      "INFO:tensorflow:step = 11001, loss = 1.25145e+11 (0.241 sec)\n",
      "INFO:tensorflow:global_step/sec: 590.218\n",
      "INFO:tensorflow:step = 11101, loss = 9.76366e+10 (0.172 sec)\n",
      "INFO:tensorflow:global_step/sec: 485.982\n",
      "INFO:tensorflow:step = 11201, loss = 7.8678e+10 (0.203 sec)\n",
      "INFO:tensorflow:global_step/sec: 461.108\n",
      "INFO:tensorflow:step = 11301, loss = 3.41679e+10 (0.220 sec)\n",
      "INFO:tensorflow:global_step/sec: 451.021\n",
      "INFO:tensorflow:step = 11401, loss = 1.11982e+11 (0.224 sec)\n",
      "INFO:tensorflow:global_step/sec: 448.962\n",
      "INFO:tensorflow:step = 11501, loss = 1.60229e+11 (0.220 sec)\n",
      "INFO:tensorflow:global_step/sec: 525.984\n",
      "INFO:tensorflow:step = 11601, loss = 9.69315e+10 (0.188 sec)\n",
      "INFO:tensorflow:global_step/sec: 609.975\n",
      "INFO:tensorflow:step = 11701, loss = 9.46126e+10 (0.164 sec)\n",
      "INFO:tensorflow:global_step/sec: 569.058\n",
      "INFO:tensorflow:step = 11801, loss = 8.42383e+10 (0.177 sec)\n",
      "INFO:tensorflow:global_step/sec: 590.87\n",
      "INFO:tensorflow:step = 11901, loss = 8.21989e+10 (0.170 sec)\n",
      "INFO:tensorflow:global_step/sec: 491.316\n",
      "INFO:tensorflow:step = 12001, loss = 8.44605e+10 (0.203 sec)\n",
      "INFO:tensorflow:global_step/sec: 456.446\n",
      "INFO:tensorflow:step = 12101, loss = 1.47753e+11 (0.221 sec)\n",
      "INFO:tensorflow:global_step/sec: 426.129\n",
      "INFO:tensorflow:step = 12201, loss = 1.08601e+11 (0.235 sec)\n",
      "INFO:tensorflow:global_step/sec: 422.197\n",
      "INFO:tensorflow:step = 12301, loss = 6.43834e+10 (0.233 sec)\n",
      "INFO:tensorflow:global_step/sec: 592.305\n",
      "INFO:tensorflow:step = 12401, loss = 1.59403e+11 (0.169 sec)\n",
      "INFO:tensorflow:global_step/sec: 627.648\n",
      "INFO:tensorflow:step = 12501, loss = 2.36795e+11 (0.161 sec)\n",
      "INFO:tensorflow:global_step/sec: 587.558\n",
      "INFO:tensorflow:step = 12601, loss = 1.65112e+11 (0.170 sec)\n",
      "INFO:tensorflow:global_step/sec: 481.615\n",
      "INFO:tensorflow:step = 12701, loss = 1.01726e+11 (0.207 sec)\n",
      "INFO:tensorflow:global_step/sec: 640.952\n",
      "INFO:tensorflow:step = 12801, loss = 6.67427e+10 (0.157 sec)\n",
      "INFO:tensorflow:global_step/sec: 604.299\n",
      "INFO:tensorflow:step = 12901, loss = 1.57385e+11 (0.165 sec)\n",
      "INFO:tensorflow:global_step/sec: 623.352\n",
      "INFO:tensorflow:step = 13001, loss = 1.08883e+11 (0.159 sec)\n",
      "INFO:tensorflow:global_step/sec: 621.327\n",
      "INFO:tensorflow:step = 13101, loss = 1.02608e+11 (0.162 sec)\n",
      "INFO:tensorflow:global_step/sec: 661.345\n",
      "INFO:tensorflow:step = 13201, loss = 2.05623e+11 (0.150 sec)\n",
      "INFO:tensorflow:global_step/sec: 536.982\n",
      "INFO:tensorflow:step = 13301, loss = 1.12947e+11 (0.188 sec)\n",
      "INFO:tensorflow:global_step/sec: 542.906\n",
      "INFO:tensorflow:step = 13401, loss = 4.59916e+10 (0.189 sec)\n",
      "INFO:tensorflow:global_step/sec: 513.75\n",
      "INFO:tensorflow:step = 13501, loss = 6.41249e+10 (0.193 sec)\n",
      "INFO:tensorflow:global_step/sec: 478.75\n",
      "INFO:tensorflow:step = 13601, loss = 9.66629e+10 (0.207 sec)\n",
      "INFO:tensorflow:global_step/sec: 501.527\n",
      "INFO:tensorflow:step = 13701, loss = 6.03451e+10 (0.199 sec)\n",
      "INFO:tensorflow:global_step/sec: 446.179\n",
      "INFO:tensorflow:step = 13801, loss = 8.64921e+10 (0.225 sec)\n",
      "INFO:tensorflow:global_step/sec: 339.609\n",
      "INFO:tensorflow:step = 13901, loss = 8.94074e+10 (0.296 sec)\n",
      "INFO:tensorflow:global_step/sec: 341.976\n",
      "INFO:tensorflow:step = 14001, loss = 4.13753e+10 (0.287 sec)\n",
      "INFO:tensorflow:global_step/sec: 507.942\n",
      "INFO:tensorflow:step = 14101, loss = 3.34982e+10 (0.202 sec)\n",
      "INFO:tensorflow:global_step/sec: 544.849\n",
      "INFO:tensorflow:step = 14201, loss = 3.03039e+10 (0.179 sec)\n",
      "INFO:tensorflow:global_step/sec: 431.602\n",
      "INFO:tensorflow:step = 14301, loss = 1.58436e+11 (0.233 sec)\n",
      "INFO:tensorflow:global_step/sec: 467.148\n",
      "INFO:tensorflow:step = 14401, loss = 1.40265e+11 (0.212 sec)\n",
      "INFO:tensorflow:global_step/sec: 643.091\n",
      "INFO:tensorflow:step = 14501, loss = 1.2294e+11 (0.158 sec)\n",
      "INFO:tensorflow:global_step/sec: 484.025\n",
      "INFO:tensorflow:step = 14601, loss = 2.88511e+10 (0.208 sec)\n",
      "INFO:tensorflow:global_step/sec: 539.939\n",
      "INFO:tensorflow:step = 14701, loss = 1.30752e+11 (0.182 sec)\n",
      "INFO:tensorflow:global_step/sec: 581.774\n",
      "INFO:tensorflow:step = 14801, loss = 4.65627e+10 (0.172 sec)\n",
      "INFO:tensorflow:global_step/sec: 541.319\n",
      "INFO:tensorflow:step = 14901, loss = 8.76496e+10 (0.184 sec)\n",
      "INFO:tensorflow:global_step/sec: 587.434\n",
      "INFO:tensorflow:step = 15001, loss = 1.025e+11 (0.173 sec)\n",
      "INFO:tensorflow:global_step/sec: 583.949\n",
      "INFO:tensorflow:step = 15101, loss = 1.3264e+11 (0.169 sec)\n",
      "INFO:tensorflow:global_step/sec: 503.271\n",
      "INFO:tensorflow:step = 15201, loss = 9.85995e+10 (0.201 sec)\n",
      "INFO:tensorflow:global_step/sec: 591.913\n",
      "INFO:tensorflow:step = 15301, loss = 3.53225e+11 (0.166 sec)\n",
      "INFO:tensorflow:global_step/sec: 512.991\n",
      "INFO:tensorflow:step = 15401, loss = 2.10887e+10 (0.196 sec)\n",
      "INFO:tensorflow:global_step/sec: 576.851\n",
      "INFO:tensorflow:step = 15501, loss = 6.60964e+10 (0.173 sec)\n",
      "INFO:tensorflow:global_step/sec: 556.957\n",
      "INFO:tensorflow:step = 15601, loss = 1.05861e+11 (0.180 sec)\n",
      "INFO:tensorflow:global_step/sec: 608.48\n",
      "INFO:tensorflow:step = 15701, loss = 1.23387e+11 (0.166 sec)\n",
      "INFO:tensorflow:global_step/sec: 598.713\n",
      "INFO:tensorflow:step = 15801, loss = 4.84147e+10 (0.165 sec)\n",
      "INFO:tensorflow:global_step/sec: 665.092\n",
      "INFO:tensorflow:step = 15901, loss = 1.25004e+11 (0.150 sec)\n",
      "INFO:tensorflow:global_step/sec: 545.81\n",
      "INFO:tensorflow:step = 16001, loss = 6.11034e+10 (0.182 sec)\n",
      "INFO:tensorflow:global_step/sec: 549.188\n",
      "INFO:tensorflow:step = 16101, loss = 4.0998e+10 (0.183 sec)\n",
      "INFO:tensorflow:global_step/sec: 596.573\n",
      "INFO:tensorflow:step = 16201, loss = 4.91445e+10 (0.169 sec)\n",
      "INFO:tensorflow:global_step/sec: 505.163\n",
      "INFO:tensorflow:step = 16301, loss = 9.41801e+10 (0.198 sec)\n",
      "INFO:tensorflow:global_step/sec: 577.453\n",
      "INFO:tensorflow:step = 16401, loss = 6.31706e+10 (0.172 sec)\n",
      "INFO:tensorflow:global_step/sec: 512.81\n",
      "INFO:tensorflow:step = 16501, loss = 1.0113e+11 (0.198 sec)\n",
      "INFO:tensorflow:global_step/sec: 510.416\n",
      "INFO:tensorflow:step = 16601, loss = 7.57522e+10 (0.192 sec)\n",
      "INFO:tensorflow:global_step/sec: 485.486\n",
      "INFO:tensorflow:step = 16701, loss = 7.20658e+10 (0.211 sec)\n",
      "INFO:tensorflow:global_step/sec: 540.479\n",
      "INFO:tensorflow:step = 16801, loss = 1.061e+11 (0.185 sec)\n",
      "INFO:tensorflow:global_step/sec: 515.055\n",
      "INFO:tensorflow:step = 16901, loss = 1.32185e+11 (0.192 sec)\n",
      "INFO:tensorflow:global_step/sec: 553.805\n",
      "INFO:tensorflow:step = 17001, loss = 4.2375e+10 (0.178 sec)\n",
      "INFO:tensorflow:global_step/sec: 601.532\n",
      "INFO:tensorflow:step = 17101, loss = 1.15476e+11 (0.167 sec)\n",
      "INFO:tensorflow:global_step/sec: 323.561\n",
      "INFO:tensorflow:step = 17201, loss = 8.58687e+10 (0.312 sec)\n",
      "INFO:tensorflow:global_step/sec: 336.067\n",
      "INFO:tensorflow:step = 17301, loss = 5.88887e+10 (0.296 sec)\n",
      "INFO:tensorflow:global_step/sec: 498.137\n",
      "INFO:tensorflow:step = 17401, loss = 5.93158e+10 (0.203 sec)\n",
      "INFO:tensorflow:global_step/sec: 391.371\n",
      "INFO:tensorflow:step = 17501, loss = 1.28806e+11 (0.252 sec)\n",
      "INFO:tensorflow:global_step/sec: 618.047\n",
      "INFO:tensorflow:step = 17601, loss = 9.88219e+10 (0.160 sec)\n",
      "INFO:tensorflow:global_step/sec: 618.49\n",
      "INFO:tensorflow:step = 17701, loss = 1.51784e+11 (0.162 sec)\n",
      "INFO:tensorflow:global_step/sec: 450.812\n",
      "INFO:tensorflow:step = 17801, loss = 5.81895e+10 (0.221 sec)\n",
      "INFO:tensorflow:global_step/sec: 443.483\n",
      "INFO:tensorflow:step = 17901, loss = 1.0086e+11 (0.225 sec)\n",
      "INFO:tensorflow:global_step/sec: 480.21\n",
      "INFO:tensorflow:step = 18001, loss = 6.31178e+10 (0.212 sec)\n",
      "INFO:tensorflow:global_step/sec: 389.14\n",
      "INFO:tensorflow:step = 18101, loss = 8.48405e+10 (0.254 sec)\n",
      "INFO:tensorflow:global_step/sec: 500.591\n",
      "INFO:tensorflow:step = 18201, loss = 9.07589e+10 (0.202 sec)\n",
      "INFO:tensorflow:global_step/sec: 574.591\n",
      "INFO:tensorflow:step = 18301, loss = 6.67967e+10 (0.172 sec)\n",
      "INFO:tensorflow:global_step/sec: 512.86\n",
      "INFO:tensorflow:step = 18401, loss = 3.76305e+10 (0.196 sec)\n",
      "INFO:tensorflow:global_step/sec: 545.628\n",
      "INFO:tensorflow:step = 18501, loss = 2.23256e+10 (0.185 sec)\n",
      "INFO:tensorflow:global_step/sec: 409.445\n",
      "INFO:tensorflow:step = 18601, loss = 8.59362e+10 (0.244 sec)\n",
      "INFO:tensorflow:global_step/sec: 432.496\n",
      "INFO:tensorflow:step = 18701, loss = 1.02842e+11 (0.230 sec)\n",
      "INFO:tensorflow:global_step/sec: 510.835\n",
      "INFO:tensorflow:step = 18801, loss = 4.57883e+10 (0.193 sec)\n",
      "INFO:tensorflow:global_step/sec: 522.128\n",
      "INFO:tensorflow:step = 18901, loss = 1.31568e+11 (0.192 sec)\n",
      "INFO:tensorflow:global_step/sec: 576.097\n",
      "INFO:tensorflow:step = 19001, loss = 9.75751e+10 (0.174 sec)\n",
      "INFO:tensorflow:global_step/sec: 502.229\n",
      "INFO:tensorflow:step = 19101, loss = 5.45787e+10 (0.202 sec)\n",
      "INFO:tensorflow:global_step/sec: 540.33\n",
      "INFO:tensorflow:step = 19201, loss = 1.29813e+11 (0.186 sec)\n",
      "INFO:tensorflow:global_step/sec: 519.276\n",
      "INFO:tensorflow:step = 19301, loss = 1.15697e+11 (0.191 sec)\n",
      "INFO:tensorflow:global_step/sec: 512.413\n",
      "INFO:tensorflow:step = 19401, loss = 1.23544e+11 (0.194 sec)\n",
      "INFO:tensorflow:global_step/sec: 491.379\n",
      "INFO:tensorflow:step = 19501, loss = 1.10203e+11 (0.203 sec)\n",
      "INFO:tensorflow:global_step/sec: 473.491\n",
      "INFO:tensorflow:step = 19601, loss = 2.6777e+11 (0.211 sec)\n",
      "INFO:tensorflow:global_step/sec: 474.446\n",
      "INFO:tensorflow:step = 19701, loss = 4.74908e+10 (0.212 sec)\n",
      "INFO:tensorflow:global_step/sec: 595.465\n",
      "INFO:tensorflow:step = 19801, loss = 8.34762e+10 (0.166 sec)\n",
      "INFO:tensorflow:global_step/sec: 626.202\n",
      "INFO:tensorflow:step = 19901, loss = 6.54127e+10 (0.161 sec)\n",
      "INFO:tensorflow:global_step/sec: 440.983\n",
      "INFO:tensorflow:step = 20001, loss = 7.40507e+10 (0.228 sec)\n",
      "INFO:tensorflow:global_step/sec: 503.018\n",
      "INFO:tensorflow:step = 20101, loss = 1.22775e+11 (0.199 sec)\n",
      "INFO:tensorflow:global_step/sec: 484.44\n",
      "INFO:tensorflow:step = 20201, loss = 5.17747e+10 (0.210 sec)\n",
      "INFO:tensorflow:global_step/sec: 490.398\n",
      "INFO:tensorflow:step = 20301, loss = 1.09727e+11 (0.202 sec)\n",
      "INFO:tensorflow:global_step/sec: 670.561\n",
      "INFO:tensorflow:step = 20401, loss = 2.27562e+11 (0.149 sec)\n",
      "INFO:tensorflow:global_step/sec: 471.222\n",
      "INFO:tensorflow:step = 20501, loss = 1.4323e+11 (0.211 sec)\n",
      "INFO:tensorflow:global_step/sec: 478.613\n",
      "INFO:tensorflow:step = 20601, loss = 7.64721e+10 (0.208 sec)\n",
      "INFO:tensorflow:global_step/sec: 500.561\n",
      "INFO:tensorflow:step = 20701, loss = 1.26592e+11 (0.204 sec)\n",
      "INFO:tensorflow:global_step/sec: 484.832\n",
      "INFO:tensorflow:step = 20801, loss = 9.50545e+10 (0.208 sec)\n",
      "INFO:tensorflow:global_step/sec: 513.548\n",
      "INFO:tensorflow:step = 20901, loss = 9.33383e+10 (0.190 sec)\n",
      "INFO:tensorflow:global_step/sec: 471.509\n",
      "INFO:tensorflow:step = 21001, loss = 8.27792e+10 (0.209 sec)\n",
      "INFO:tensorflow:global_step/sec: 472.827\n",
      "INFO:tensorflow:step = 21101, loss = 7.99239e+10 (0.214 sec)\n",
      "INFO:tensorflow:global_step/sec: 495.324\n",
      "INFO:tensorflow:step = 21201, loss = 9.10462e+10 (0.203 sec)\n",
      "INFO:tensorflow:global_step/sec: 469.09\n",
      "INFO:tensorflow:step = 21301, loss = 9.00121e+10 (0.210 sec)\n",
      "INFO:tensorflow:global_step/sec: 556.576\n",
      "INFO:tensorflow:step = 21401, loss = 7.65355e+10 (0.182 sec)\n",
      "INFO:tensorflow:global_step/sec: 652.533\n",
      "INFO:tensorflow:step = 21501, loss = 1.64273e+11 (0.152 sec)\n",
      "INFO:tensorflow:global_step/sec: 517.445\n",
      "INFO:tensorflow:step = 21601, loss = 1.70059e+11 (0.194 sec)\n",
      "INFO:tensorflow:global_step/sec: 570.914\n",
      "INFO:tensorflow:step = 21701, loss = 4.97971e+10 (0.175 sec)\n",
      "INFO:tensorflow:global_step/sec: 562.024\n",
      "INFO:tensorflow:step = 21801, loss = 1.10321e+11 (0.178 sec)\n",
      "INFO:tensorflow:global_step/sec: 589.22\n",
      "INFO:tensorflow:step = 21901, loss = 1.56658e+11 (0.169 sec)\n",
      "INFO:tensorflow:global_step/sec: 486.623\n",
      "INFO:tensorflow:step = 22001, loss = 1.10044e+11 (0.207 sec)\n",
      "INFO:tensorflow:global_step/sec: 498.643\n",
      "INFO:tensorflow:step = 22101, loss = 1.28693e+11 (0.201 sec)\n",
      "INFO:tensorflow:global_step/sec: 471.551\n",
      "INFO:tensorflow:step = 22201, loss = 6.37181e+10 (0.211 sec)\n",
      "INFO:tensorflow:global_step/sec: 481.429\n",
      "INFO:tensorflow:step = 22301, loss = 6.43677e+10 (0.206 sec)\n",
      "INFO:tensorflow:global_step/sec: 646.421\n",
      "INFO:tensorflow:step = 22401, loss = 5.04707e+10 (0.156 sec)\n",
      "INFO:tensorflow:global_step/sec: 585.857\n",
      "INFO:tensorflow:step = 22501, loss = 7.46114e+10 (0.169 sec)\n",
      "INFO:tensorflow:global_step/sec: 457.779\n",
      "INFO:tensorflow:step = 22601, loss = 1.31324e+11 (0.220 sec)\n",
      "INFO:tensorflow:global_step/sec: 513.531\n",
      "INFO:tensorflow:step = 22701, loss = 1.35237e+11 (0.194 sec)\n",
      "INFO:tensorflow:global_step/sec: 448.531\n",
      "INFO:tensorflow:step = 22801, loss = 7.17373e+10 (0.225 sec)\n",
      "INFO:tensorflow:global_step/sec: 551.499\n",
      "INFO:tensorflow:step = 22901, loss = 1.292e+11 (0.179 sec)\n",
      "INFO:tensorflow:global_step/sec: 599.898\n",
      "INFO:tensorflow:step = 23001, loss = 1.05703e+11 (0.167 sec)\n",
      "INFO:tensorflow:global_step/sec: 505.094\n",
      "INFO:tensorflow:step = 23101, loss = 6.29587e+10 (0.197 sec)\n",
      "INFO:tensorflow:global_step/sec: 526.665\n",
      "INFO:tensorflow:step = 23201, loss = 1.20812e+11 (0.190 sec)\n",
      "INFO:tensorflow:global_step/sec: 563.148\n",
      "INFO:tensorflow:step = 23301, loss = 4.60426e+10 (0.180 sec)\n",
      "INFO:tensorflow:global_step/sec: 564.545\n",
      "INFO:tensorflow:step = 23401, loss = 8.39798e+10 (0.176 sec)\n",
      "INFO:tensorflow:global_step/sec: 516.115\n",
      "INFO:tensorflow:step = 23501, loss = 1.04846e+11 (0.197 sec)\n",
      "INFO:tensorflow:global_step/sec: 498.547\n",
      "INFO:tensorflow:step = 23601, loss = 1.17862e+11 (0.200 sec)\n",
      "INFO:tensorflow:global_step/sec: 464.283\n",
      "INFO:tensorflow:step = 23701, loss = 8.84865e+10 (0.210 sec)\n",
      "INFO:tensorflow:global_step/sec: 512.768\n",
      "INFO:tensorflow:step = 23801, loss = 2.24584e+11 (0.196 sec)\n",
      "INFO:tensorflow:global_step/sec: 556.771\n",
      "INFO:tensorflow:step = 23901, loss = 6.20642e+10 (0.182 sec)\n",
      "INFO:tensorflow:global_step/sec: 521.015\n",
      "INFO:tensorflow:step = 24001, loss = 1.38363e+11 (0.191 sec)\n",
      "INFO:tensorflow:global_step/sec: 503.469\n",
      "INFO:tensorflow:step = 24101, loss = 1.58196e+11 (0.197 sec)\n",
      "INFO:tensorflow:global_step/sec: 551.225\n",
      "INFO:tensorflow:step = 24201, loss = 1.07747e+11 (0.182 sec)\n",
      "INFO:tensorflow:global_step/sec: 569.6\n",
      "INFO:tensorflow:step = 24301, loss = 4.11896e+10 (0.178 sec)\n",
      "INFO:tensorflow:global_step/sec: 529.821\n",
      "INFO:tensorflow:step = 24401, loss = 1.45342e+11 (0.188 sec)\n",
      "INFO:tensorflow:global_step/sec: 493.167\n",
      "INFO:tensorflow:step = 24501, loss = 1.62901e+11 (0.202 sec)\n",
      "INFO:tensorflow:global_step/sec: 611.094\n",
      "INFO:tensorflow:step = 24601, loss = 7.92094e+10 (0.164 sec)\n",
      "INFO:tensorflow:global_step/sec: 587.745\n",
      "INFO:tensorflow:step = 24701, loss = 5.79389e+10 (0.171 sec)\n",
      "INFO:tensorflow:global_step/sec: 455.689\n",
      "INFO:tensorflow:step = 24801, loss = 1.20178e+11 (0.217 sec)\n",
      "INFO:tensorflow:global_step/sec: 533.795\n",
      "INFO:tensorflow:step = 24901, loss = 1.14193e+11 (0.191 sec)\n"
     ]
    },
    {
     "name": "stdout",
     "output_type": "stream",
     "text": [
      "INFO:tensorflow:global_step/sec: 481.454\n",
      "INFO:tensorflow:step = 25001, loss = 9.57338e+10 (0.210 sec)\n",
      "INFO:tensorflow:global_step/sec: 469.226\n",
      "INFO:tensorflow:step = 25101, loss = 1.06168e+11 (0.210 sec)\n",
      "INFO:tensorflow:global_step/sec: 656.815\n",
      "INFO:tensorflow:step = 25201, loss = 4.1844e+10 (0.152 sec)\n",
      "INFO:tensorflow:global_step/sec: 609.273\n",
      "INFO:tensorflow:step = 25301, loss = 1.54588e+11 (0.163 sec)\n",
      "INFO:tensorflow:global_step/sec: 512.542\n",
      "INFO:tensorflow:step = 25401, loss = 1.62004e+11 (0.198 sec)\n",
      "INFO:tensorflow:global_step/sec: 450.035\n",
      "INFO:tensorflow:step = 25501, loss = 7.36181e+10 (0.222 sec)\n",
      "INFO:tensorflow:global_step/sec: 532.868\n",
      "INFO:tensorflow:step = 25601, loss = 2.14772e+11 (0.189 sec)\n",
      "INFO:tensorflow:global_step/sec: 449.03\n",
      "INFO:tensorflow:step = 25701, loss = 3.29196e+10 (0.220 sec)\n",
      "INFO:tensorflow:global_step/sec: 583.699\n",
      "INFO:tensorflow:step = 25801, loss = 1.05084e+11 (0.172 sec)\n",
      "INFO:tensorflow:global_step/sec: 556.069\n",
      "INFO:tensorflow:step = 25901, loss = 1.03282e+11 (0.182 sec)\n",
      "INFO:tensorflow:Saving checkpoints for 26000 into /var/folders/n_/yc8w5lvd0939ndnjzj5wm8mr0000gn/T/tmpdf3o2s_2/model.ckpt.\n",
      "INFO:tensorflow:Loss for final step: 6.10464e+10.\n"
     ]
    },
    {
     "data": {
      "text/plain": [
       "<tensorflow.python.estimator.canned.dnn.DNNRegressor at 0x12387ce48>"
      ]
     },
     "execution_count": 93,
     "metadata": {},
     "output_type": "execute_result"
    }
   ],
   "source": [
    "dnn_model.train(input_fn=input_func, steps=25000)"
   ]
  },
  {
   "cell_type": "markdown",
   "metadata": {},
   "source": [
    "** Create a prediction input function and then use the .predict method off your estimator model to create a list or predictions on your test data. **"
   ]
  },
  {
   "cell_type": "code",
   "execution_count": 94,
   "metadata": {
    "collapsed": true
   },
   "outputs": [],
   "source": [
    "pred_input_func = tf.estimator.inputs.pandas_input_fn(x=X_test_scaled, y=y_test, \n",
    "                                                      batch_size=10, num_epochs=1, shuffle=False)"
   ]
  },
  {
   "cell_type": "code",
   "execution_count": 95,
   "metadata": {
    "scrolled": true
   },
   "outputs": [
    {
     "name": "stdout",
     "output_type": "stream",
     "text": [
      "INFO:tensorflow:Restoring parameters from /var/folders/n_/yc8w5lvd0939ndnjzj5wm8mr0000gn/T/tmpdf3o2s_2/model.ckpt-26000\n"
     ]
    }
   ],
   "source": [
    "y_pred = dnn_model.predict(pred_input_func)\n",
    "y_pred_list = [p['predictions'][0] for p in y_pred]"
   ]
  },
  {
   "cell_type": "markdown",
   "metadata": {},
   "source": [
    "** Calculate the RMSE. You should be able to get around 100,000 RMSE (remember that this is in the same units as the label.) Do this manually or use [sklearn.metrics](http://scikit-learn.org/stable/modules/generated/sklearn.metrics.mean_squared_error.html) **"
   ]
  },
  {
   "cell_type": "code",
   "execution_count": 96,
   "metadata": {
    "collapsed": true
   },
   "outputs": [],
   "source": [
    "from sklearn.metrics import mean_squared_error"
   ]
  },
  {
   "cell_type": "code",
   "execution_count": 98,
   "metadata": {},
   "outputs": [
    {
     "data": {
      "text/plain": [
       "96499.609419587068"
      ]
     },
     "execution_count": 98,
     "metadata": {},
     "output_type": "execute_result"
    }
   ],
   "source": [
    "np.sqrt(mean_squared_error(y_test, y_pred_list))"
   ]
  },
  {
   "cell_type": "markdown",
   "metadata": {},
   "source": [
    "97921.93181985477"
   ]
  }
 ],
 "metadata": {
  "kernelspec": {
   "display_name": "Python 3",
   "language": "python",
   "name": "python3"
  },
  "language_info": {
   "codemirror_mode": {
    "name": "ipython",
    "version": 3
   },
   "file_extension": ".py",
   "mimetype": "text/x-python",
   "name": "python",
   "nbconvert_exporter": "python",
   "pygments_lexer": "ipython3",
   "version": "3.5.4"
  }
 },
 "nbformat": 4,
 "nbformat_minor": 2
}
