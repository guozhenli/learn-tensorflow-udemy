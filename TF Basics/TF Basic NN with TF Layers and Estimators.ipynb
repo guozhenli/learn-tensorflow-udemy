{
 "cells": [
  {
   "cell_type": "markdown",
   "metadata": {},
   "source": [
    "# TensorFlow Basic Neural Network \n",
    "# with Higher-level TF Wrappers (Estimators, Layers)"
   ]
  },
  {
   "cell_type": "markdown",
   "metadata": {},
   "source": [
    "Replicated from [Aymeric Damien's TF `neural_network` Example](https://github.com/aymericdamien/TensorFlow-Examples/blob/master/notebooks/3_NeuralNetworks/neural_network.ipynb)\n",
    "\n",
    "Basic multi-layer perceptron neural network, with TensorFlow's higher-level wrappers."
   ]
  },
  {
   "cell_type": "markdown",
   "metadata": {},
   "source": [
    "### Load packages and MNIST data set"
   ]
  },
  {
   "cell_type": "markdown",
   "metadata": {},
   "source": [
    "Note that we're useing `one_hot=`**`False`**  here."
   ]
  },
  {
   "cell_type": "code",
   "execution_count": 9,
   "metadata": {},
   "outputs": [
    {
     "name": "stdout",
     "output_type": "stream",
     "text": [
      "Extracting /tmp/data/train-images-idx3-ubyte.gz\n",
      "Extracting /tmp/data/train-labels-idx1-ubyte.gz\n",
      "Extracting /tmp/data/t10k-images-idx3-ubyte.gz\n",
      "Extracting /tmp/data/t10k-labels-idx1-ubyte.gz\n"
     ]
    }
   ],
   "source": [
    "from tensorflow.examples.tutorials.mnist import input_data\n",
    "mnist = input_data.read_data_sets('/tmp/data/', one_hot=False)\n",
    "\n",
    "import tensorflow as tf\n",
    "import matplotlib.pyplot as plt\n",
    "import numpy as np"
   ]
  },
  {
   "cell_type": "markdown",
   "metadata": {},
   "source": [
    "### Hyper parameters for learning"
   ]
  },
  {
   "cell_type": "code",
   "execution_count": 10,
   "metadata": {
    "collapsed": true
   },
   "outputs": [],
   "source": [
    "learning_rate = 0.1\n",
    "num_steps = 5000\n",
    "batch_size = 128\n",
    "display_step = 1000"
   ]
  },
  {
   "cell_type": "code",
   "execution_count": 11,
   "metadata": {
    "collapsed": true
   },
   "outputs": [],
   "source": [
    "n_hidden_1 = 256  # number of neurons\n",
    "n_hidden_2 = 256\n",
    "num_input = 28**2\n",
    "num_classes = 10"
   ]
  },
  {
   "cell_type": "markdown",
   "metadata": {},
   "source": [
    "### TF input functions"
   ]
  },
  {
   "cell_type": "markdown",
   "metadata": {},
   "source": [
    "The job of an input function is to deliver data (as numpy array or pandas dataframe) to a neural network."
   ]
  },
  {
   "cell_type": "code",
   "execution_count": 13,
   "metadata": {},
   "outputs": [],
   "source": [
    "input_func = tf.estimator.inputs.numpy_input_fn(\n",
    "    x = {'images': mnist.train.images},\n",
    "    y = mnist.train.labels,\n",
    "    batch_size = batch_size,\n",
    "    num_epochs = None,\n",
    "    shuffle = True\n",
    ")"
   ]
  },
  {
   "cell_type": "markdown",
   "metadata": {},
   "source": [
    "The neural network is essentially a chain of operations."
   ]
  },
  {
   "cell_type": "code",
   "execution_count": 14,
   "metadata": {
    "collapsed": true
   },
   "outputs": [],
   "source": [
    "def neural_net(x_dict):\n",
    "    x = x_dict['images']\n",
    "    layer_1 = tf.layers.dense(inputs=x, units=n_hidden_1)\n",
    "    layer_2 = tf.layers.dense(inputs=layer_1, units=n_hidden_2)\n",
    "    out_layer = tf.layers.dense(inputs=layer_2, units=num_classes)\n",
    "    return out_layer"
   ]
  },
  {
   "cell_type": "markdown",
   "metadata": {},
   "source": [
    "***What the hell is an `EstimatorSpec`???***"
   ]
  },
  {
   "cell_type": "code",
   "execution_count": 15,
   "metadata": {
    "collapsed": true
   },
   "outputs": [],
   "source": [
    "def model_fn(features, labels, mode):\n",
    "    \n",
    "    logits = neural_net(features)\n",
    "    \n",
    "    pred_classes = tf.argmax(logits, axis=1)\n",
    "    pred_probas  = tf.nn.softmax(logits=logits)\n",
    "    \n",
    "    if mode == tf.estimator.ModeKeys.PREDICT:\n",
    "        return tf.estimator.EstimatorSpec(mode=mode, predictions=pred_classes)\n",
    "    \n",
    "    loss_op = tf.reduce_mean(tf.nn.sparse_softmax_cross_entropy_with_logits(logits=logits, \n",
    "                                                                            labels=tf.cast(labels, dtype=tf.int32)))\n",
    "    \n",
    "    optimizer = tf.train.GradientDescentOptimizer(learning_rate=learning_rate)\n",
    "    \n",
    "    train_op = optimizer.minimize(loss_op, global_step=tf.train.get_global_step())\n",
    "    \n",
    "    acc_op = tf.metrics.accuracy(labels=labels, predictions=pred_classes)\n",
    "    \n",
    "    estim_specs = tf.estimator.EstimatorSpec(mode=mode, \n",
    "                                             predictions=pred_classes,\n",
    "                                             loss=loss_op,\n",
    "                                             train_op=train_op,\n",
    "                                             eval_metric_ops = {'accuracy': acc_op}\n",
    "                                            )\n",
    "    return estim_specs"
   ]
  },
  {
   "cell_type": "code",
   "execution_count": 16,
   "metadata": {},
   "outputs": [
    {
     "name": "stdout",
     "output_type": "stream",
     "text": [
      "INFO:tensorflow:Using default config.\n",
      "WARNING:tensorflow:Using temporary folder as model directory: /var/folders/n_/yc8w5lvd0939ndnjzj5wm8mr0000gn/T/tmpqqujfk0w\n",
      "INFO:tensorflow:Using config: {'_model_dir': '/var/folders/n_/yc8w5lvd0939ndnjzj5wm8mr0000gn/T/tmpqqujfk0w', '_keep_checkpoint_max': 5, '_session_config': None, '_tf_random_seed': 1, '_keep_checkpoint_every_n_hours': 10000, '_log_step_count_steps': 100, '_save_checkpoints_steps': None, '_save_summary_steps': 100, '_save_checkpoints_secs': 600}\n"
     ]
    }
   ],
   "source": [
    "model = tf.estimator.Estimator(model_fn=model_fn)"
   ]
  },
  {
   "cell_type": "code",
   "execution_count": 17,
   "metadata": {
    "scrolled": false
   },
   "outputs": [
    {
     "name": "stdout",
     "output_type": "stream",
     "text": [
      "INFO:tensorflow:Create CheckpointSaverHook.\n",
      "INFO:tensorflow:Saving checkpoints for 1 into /var/folders/n_/yc8w5lvd0939ndnjzj5wm8mr0000gn/T/tmpqqujfk0w/model.ckpt.\n",
      "INFO:tensorflow:loss = 2.32305, step = 1\n",
      "INFO:tensorflow:global_step/sec: 154.395\n",
      "INFO:tensorflow:loss = 0.541347, step = 101 (0.649 sec)\n",
      "INFO:tensorflow:global_step/sec: 159.446\n",
      "INFO:tensorflow:loss = 0.371348, step = 201 (0.627 sec)\n",
      "INFO:tensorflow:global_step/sec: 160.697\n",
      "INFO:tensorflow:loss = 0.298337, step = 301 (0.622 sec)\n",
      "INFO:tensorflow:global_step/sec: 157.507\n",
      "INFO:tensorflow:loss = 0.201261, step = 401 (0.635 sec)\n",
      "INFO:tensorflow:global_step/sec: 165.896\n",
      "INFO:tensorflow:loss = 0.385448, step = 501 (0.602 sec)\n",
      "INFO:tensorflow:global_step/sec: 161.023\n",
      "INFO:tensorflow:loss = 0.456829, step = 601 (0.621 sec)\n",
      "INFO:tensorflow:global_step/sec: 164.316\n",
      "INFO:tensorflow:loss = 0.216312, step = 701 (0.609 sec)\n",
      "INFO:tensorflow:global_step/sec: 158.474\n",
      "INFO:tensorflow:loss = 0.45164, step = 801 (0.631 sec)\n",
      "INFO:tensorflow:global_step/sec: 153.237\n",
      "INFO:tensorflow:loss = 0.287792, step = 901 (0.653 sec)\n",
      "INFO:tensorflow:global_step/sec: 160.884\n",
      "INFO:tensorflow:loss = 0.224974, step = 1001 (0.621 sec)\n",
      "INFO:tensorflow:global_step/sec: 141.522\n",
      "INFO:tensorflow:loss = 0.245597, step = 1101 (0.707 sec)\n",
      "INFO:tensorflow:global_step/sec: 163.022\n",
      "INFO:tensorflow:loss = 0.22238, step = 1201 (0.614 sec)\n",
      "INFO:tensorflow:global_step/sec: 164.136\n",
      "INFO:tensorflow:loss = 0.286079, step = 1301 (0.609 sec)\n",
      "INFO:tensorflow:global_step/sec: 164.656\n",
      "INFO:tensorflow:loss = 0.353559, step = 1401 (0.607 sec)\n",
      "INFO:tensorflow:global_step/sec: 169.831\n",
      "INFO:tensorflow:loss = 0.400064, step = 1501 (0.589 sec)\n",
      "INFO:tensorflow:global_step/sec: 155.013\n",
      "INFO:tensorflow:loss = 0.256745, step = 1601 (0.645 sec)\n",
      "INFO:tensorflow:global_step/sec: 159.907\n",
      "INFO:tensorflow:loss = 0.260791, step = 1701 (0.625 sec)\n",
      "INFO:tensorflow:global_step/sec: 157.384\n",
      "INFO:tensorflow:loss = 0.212779, step = 1801 (0.635 sec)\n",
      "INFO:tensorflow:global_step/sec: 157.399\n",
      "INFO:tensorflow:loss = 0.424887, step = 1901 (0.635 sec)\n",
      "INFO:tensorflow:global_step/sec: 152.347\n",
      "INFO:tensorflow:loss = 0.275724, step = 2001 (0.657 sec)\n",
      "INFO:tensorflow:global_step/sec: 156.527\n",
      "INFO:tensorflow:loss = 0.243173, step = 2101 (0.638 sec)\n",
      "INFO:tensorflow:global_step/sec: 150.479\n",
      "INFO:tensorflow:loss = 0.173499, step = 2201 (0.665 sec)\n",
      "INFO:tensorflow:global_step/sec: 160.109\n",
      "INFO:tensorflow:loss = 0.284071, step = 2301 (0.625 sec)\n",
      "INFO:tensorflow:global_step/sec: 159.385\n",
      "INFO:tensorflow:loss = 0.308309, step = 2401 (0.627 sec)\n",
      "INFO:tensorflow:global_step/sec: 157.592\n",
      "INFO:tensorflow:loss = 0.34192, step = 2501 (0.635 sec)\n",
      "INFO:tensorflow:global_step/sec: 161.078\n",
      "INFO:tensorflow:loss = 0.284431, step = 2601 (0.621 sec)\n",
      "INFO:tensorflow:global_step/sec: 168.513\n",
      "INFO:tensorflow:loss = 0.558474, step = 2701 (0.593 sec)\n",
      "INFO:tensorflow:global_step/sec: 163.1\n",
      "INFO:tensorflow:loss = 0.249631, step = 2801 (0.613 sec)\n",
      "INFO:tensorflow:global_step/sec: 165.922\n",
      "INFO:tensorflow:loss = 0.321351, step = 2901 (0.603 sec)\n",
      "INFO:tensorflow:global_step/sec: 164.742\n",
      "INFO:tensorflow:loss = 0.148996, step = 3001 (0.607 sec)\n",
      "INFO:tensorflow:global_step/sec: 166.43\n",
      "INFO:tensorflow:loss = 0.24541, step = 3101 (0.601 sec)\n",
      "INFO:tensorflow:global_step/sec: 165.119\n",
      "INFO:tensorflow:loss = 0.242027, step = 3201 (0.606 sec)\n",
      "INFO:tensorflow:global_step/sec: 163.364\n",
      "INFO:tensorflow:loss = 0.293884, step = 3301 (0.612 sec)\n",
      "INFO:tensorflow:global_step/sec: 165.501\n",
      "INFO:tensorflow:loss = 0.268274, step = 3401 (0.604 sec)\n",
      "INFO:tensorflow:global_step/sec: 155.732\n",
      "INFO:tensorflow:loss = 0.349266, step = 3501 (0.642 sec)\n",
      "INFO:tensorflow:global_step/sec: 163.779\n",
      "INFO:tensorflow:loss = 0.189378, step = 3601 (0.611 sec)\n",
      "INFO:tensorflow:global_step/sec: 160.578\n",
      "INFO:tensorflow:loss = 0.140976, step = 3701 (0.623 sec)\n",
      "INFO:tensorflow:global_step/sec: 161.134\n",
      "INFO:tensorflow:loss = 0.181297, step = 3801 (0.621 sec)\n",
      "INFO:tensorflow:global_step/sec: 156.896\n",
      "INFO:tensorflow:loss = 0.277393, step = 3901 (0.637 sec)\n",
      "INFO:tensorflow:global_step/sec: 161.15\n",
      "INFO:tensorflow:loss = 0.280561, step = 4001 (0.621 sec)\n",
      "INFO:tensorflow:global_step/sec: 152.704\n",
      "INFO:tensorflow:loss = 0.19047, step = 4101 (0.655 sec)\n",
      "INFO:tensorflow:global_step/sec: 156.543\n",
      "INFO:tensorflow:loss = 0.272555, step = 4201 (0.639 sec)\n",
      "INFO:tensorflow:global_step/sec: 166.654\n",
      "INFO:tensorflow:loss = 0.398388, step = 4301 (0.600 sec)\n",
      "INFO:tensorflow:global_step/sec: 161.481\n",
      "INFO:tensorflow:loss = 0.216779, step = 4401 (0.619 sec)\n",
      "INFO:tensorflow:global_step/sec: 165.522\n",
      "INFO:tensorflow:loss = 0.277105, step = 4501 (0.604 sec)\n",
      "INFO:tensorflow:global_step/sec: 162.997\n",
      "INFO:tensorflow:loss = 0.249181, step = 4601 (0.614 sec)\n",
      "INFO:tensorflow:global_step/sec: 156.216\n",
      "INFO:tensorflow:loss = 0.274381, step = 4701 (0.640 sec)\n",
      "INFO:tensorflow:global_step/sec: 160.702\n",
      "INFO:tensorflow:loss = 0.286552, step = 4801 (0.622 sec)\n",
      "INFO:tensorflow:global_step/sec: 152.772\n",
      "INFO:tensorflow:loss = 0.440011, step = 4901 (0.655 sec)\n",
      "INFO:tensorflow:Saving checkpoints for 5000 into /var/folders/n_/yc8w5lvd0939ndnjzj5wm8mr0000gn/T/tmpqqujfk0w/model.ckpt.\n",
      "INFO:tensorflow:Loss for final step: 0.261698.\n"
     ]
    },
    {
     "data": {
      "text/plain": [
       "<tensorflow.python.estimator.estimator.Estimator at 0x128b25828>"
      ]
     },
     "execution_count": 17,
     "metadata": {},
     "output_type": "execute_result"
    }
   ],
   "source": [
    "model.train(input_fn=input_func, steps=num_steps)"
   ]
  },
  {
   "cell_type": "markdown",
   "metadata": {},
   "source": []
  },
  {
   "cell_type": "code",
   "execution_count": 18,
   "metadata": {
    "collapsed": true
   },
   "outputs": [],
   "source": [
    "eval_input_fn = tf.estimator.inputs.numpy_input_fn(x={'images': mnist.test.images},\n",
    "                                                   y = mnist.test.labels,\n",
    "                                                   batch_size=batch_size,\n",
    "                                                   shuffle=False\n",
    "                                                  )"
   ]
  },
  {
   "cell_type": "code",
   "execution_count": 19,
   "metadata": {},
   "outputs": [
    {
     "name": "stdout",
     "output_type": "stream",
     "text": [
      "INFO:tensorflow:Starting evaluation at 2017-12-26-05:53:05\n",
      "INFO:tensorflow:Restoring parameters from /var/folders/n_/yc8w5lvd0939ndnjzj5wm8mr0000gn/T/tmpqqujfk0w/model.ckpt-5000\n",
      "INFO:tensorflow:Finished evaluation at 2017-12-26-05:53:05\n",
      "INFO:tensorflow:Saving dict for global step 5000: accuracy = 0.9223, global_step = 5000, loss = 0.279789\n"
     ]
    },
    {
     "data": {
      "text/plain": [
       "{'accuracy': 0.92229998, 'global_step': 5000, 'loss': 0.27978891}"
      ]
     },
     "execution_count": 19,
     "metadata": {},
     "output_type": "execute_result"
    }
   ],
   "source": [
    "model.evaluate(eval_input_fn)"
   ]
  },
  {
   "cell_type": "markdown",
   "metadata": {},
   "source": []
  },
  {
   "cell_type": "code",
   "execution_count": 36,
   "metadata": {},
   "outputs": [],
   "source": [
    "n_images = 3\n",
    "pick = np.random.randint(mnist.test.labels.shape[0], size=n_images)\n",
    "\n",
    "test_images = np.array([mnist.test.images[i] for i in pick])"
   ]
  },
  {
   "cell_type": "code",
   "execution_count": 37,
   "metadata": {},
   "outputs": [
    {
     "name": "stdout",
     "output_type": "stream",
     "text": [
      "INFO:tensorflow:Restoring parameters from /var/folders/n_/yc8w5lvd0939ndnjzj5wm8mr0000gn/T/tmpqqujfk0w/model.ckpt-5000\n"
     ]
    }
   ],
   "source": [
    "pred_input_func = tf.estimator.inputs.numpy_input_fn(x={'images': test_images}, shuffle=False)\n",
    "\n",
    "preds = list(model.predict(input_fn=pred_input_func))"
   ]
  },
  {
   "cell_type": "code",
   "execution_count": 38,
   "metadata": {},
   "outputs": [
    {
     "data": {
      "image/png": "[encoded data removed]",
      "text/plain": [
       "<matplotlib.figure.Figure at 0x11f921048>"
      ]
     },
     "metadata": {},
     "output_type": "display_data"
    },
    {
     "name": "stdout",
     "output_type": "stream",
     "text": [
      "Model prediction: 5\n"
     ]
    },
    {
     "data": {
      "image/png": "[encoded data removed]",
      "text/plain": [
       "<matplotlib.figure.Figure at 0x11f9f7898>"
      ]
     },
     "metadata": {},
     "output_type": "display_data"
    },
    {
     "name": "stdout",
     "output_type": "stream",
     "text": [
      "Model prediction: 7\n"
     ]
    },
    {
     "data": {
      "image/png": "[encoded data removed]",
      "text/plain": [
       "<matplotlib.figure.Figure at 0x11f777e10>"
      ]
     },
     "metadata": {},
     "output_type": "display_data"
    },
    {
     "name": "stdout",
     "output_type": "stream",
     "text": [
      "Model prediction: 1\n"
     ]
    }
   ],
   "source": [
    "for i in range(n_images):\n",
    "    plt.imshow(np.reshape(test_images[i], [28,28]), cmap='gray')\n",
    "    plt.show()\n",
    "    print('Model prediction:', preds[i])"
   ]
  }
 ],
 "metadata": {
  "kernelspec": {
   "display_name": "Python 3",
   "language": "python",
   "name": "python3"
  },
  "language_info": {
   "codemirror_mode": {
    "name": "ipython",
    "version": 3
   },
   "file_extension": ".py",
   "mimetype": "text/x-python",
   "name": "python",
   "nbconvert_exporter": "python",
   "pygments_lexer": "ipython3",
   "version": "3.5.4"
  }
 },
 "nbformat": 4,
 "nbformat_minor": 2
}
