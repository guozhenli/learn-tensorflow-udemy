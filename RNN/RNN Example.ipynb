{
 "cells": [
  {
   "cell_type": "markdown",
   "metadata": {},
   "source": [
    "# RNN Code Along"
   ]
  },
  {
   "cell_type": "code",
   "execution_count": 1,
   "metadata": {
    "collapsed": true
   },
   "outputs": [],
   "source": [
    "import numpy as np\n",
    "import tensorflow as tf\n",
    "import matplotlib.pyplot as plt\n",
    "%matplotlib inline"
   ]
  },
  {
   "cell_type": "markdown",
   "metadata": {},
   "source": [
    "## TimeSeries Class"
   ]
  },
  {
   "cell_type": "code",
   "execution_count": 2,
   "metadata": {
    "collapsed": true
   },
   "outputs": [],
   "source": [
    "class TimeSeriesData():\n",
    "    def __init__(self, num_points, xmin, xmax):\n",
    "        self.xmin = xmin\n",
    "        self.xmax = xmax\n",
    "        self.num_points = num_points\n",
    "        self.resolution = (self.xmax - self.xmin)/num_points    # average spacing between xmin~xmax\n",
    "        self.x_data = np.linspace(xmin, xmax, num_points)\n",
    "        self.y_true = np.sin(self.x_data)\n",
    "        \n",
    "    def ret_true(self, x_series):\n",
    "        return np.sin(x_series)\n",
    "    \n",
    "    def next_batch(self, batch_size, steps, return_batch_ts=False):\n",
    "        # a random starting point for each batch\n",
    "        rand_start = np.random.rand(batch_size, 1)    # a random vector of batch_size rows, and 1 column\n",
    "        # shape: (batch_size, 1)\n",
    "        \n",
    "        # map rand_start onto the xmin~xmax range\n",
    "        ts_start = rand_start * (self.xmax - self.xmin - (steps * self.resolution))\n",
    "#         print('ts_start.shape:', ts_start.shape)\n",
    "        # shape: (batch_size, 1)\n",
    "        \n",
    "        # \n",
    "        batch_ts = ts_start + np.arange(0.0, steps+1) * self.resolution\n",
    "        # ts_start shape: (batch_size, 1)\n",
    "        # np.arange() shape: (1, steps+1)\n",
    "        # batch_ts shape: (batch_size, steps+1)\n",
    "#         print('batch_ts.shape:', batch_ts.shape)\n",
    "        \n",
    "        # \n",
    "        y_batch = np.sin(batch_ts)\n",
    "        # y_batch shape: (batch_size, steps+1)\n",
    "#         print('y_batch.shape:', y_batch.shape)\n",
    "        \n",
    "        # Formatting for RNN\n",
    "        y1 = y_batch[:, :-1].reshape(-1, steps, 1)\n",
    "        y2 = y_batch[:, 1:].reshape(-1, steps, 1)\n",
    "        if return_batch_ts:\n",
    "            return y1, y2, batch_ts\n",
    "        else:\n",
    "            return y1, y2"
   ]
  },
  {
   "cell_type": "code",
   "execution_count": 3,
   "metadata": {
    "collapsed": true
   },
   "outputs": [],
   "source": [
    "ts_data = TimeSeriesData(num_points=250, xmin=0, xmax=10)"
   ]
  },
  {
   "cell_type": "code",
   "execution_count": 4,
   "metadata": {},
   "outputs": [
    {
     "data": {
      "text/plain": [
       "[<matplotlib.lines.Line2D at 0x1179e9d68>]"
      ]
     },
     "execution_count": 4,
     "metadata": {},
     "output_type": "execute_result"
    },
    {
     "data": {
      "image/png": "[encoded data removed]",
      "text/plain": [
       "<matplotlib.figure.Figure at 0x1146b2cc0>"
      ]
     },
     "metadata": {},
     "output_type": "display_data"
    }
   ],
   "source": [
    "plt.plot(ts_data.x_data, ts_data.y_true)"
   ]
  },
  {
   "cell_type": "code",
   "execution_count": 5,
   "metadata": {
    "collapsed": true
   },
   "outputs": [],
   "source": [
    "num_time_steps = 30"
   ]
  },
  {
   "cell_type": "code",
   "execution_count": 6,
   "metadata": {
    "collapsed": true
   },
   "outputs": [],
   "source": [
    "y1, y2, ts = ts_data.next_batch(batch_size=1, steps=num_time_steps, return_batch_ts=True)"
   ]
  },
  {
   "cell_type": "code",
   "execution_count": 7,
   "metadata": {},
   "outputs": [
    {
     "name": "stdout",
     "output_type": "stream",
     "text": [
      "(1, 30, 1)\n",
      "(1, 30, 1)\n",
      "(1, 31)\n"
     ]
    }
   ],
   "source": [
    "print(y1.shape)\n",
    "print(y2.shape)\n",
    "print(ts.shape)"
   ]
  },
  {
   "cell_type": "code",
   "execution_count": 8,
   "metadata": {},
   "outputs": [
    {
     "data": {
      "text/plain": [
       "[<matplotlib.lines.Line2D at 0x117b3ceb8>]"
      ]
     },
     "execution_count": 8,
     "metadata": {},
     "output_type": "execute_result"
    },
    {
     "data": {
      "image/png": "[encoded data removed]",
      "text/plain": [
       "<matplotlib.figure.Figure at 0x1146b29b0>"
      ]
     },
     "metadata": {},
     "output_type": "display_data"
    }
   ],
   "source": [
    "plt.plot(ts.flatten()[1:], y2.flatten(), '*')"
   ]
  },
  {
   "cell_type": "code",
   "execution_count": 9,
   "metadata": {},
   "outputs": [
    {
     "data": {
      "image/png": "[encoded data removed]",
      "text/plain": [
       "<matplotlib.figure.Figure at 0x117a30860>"
      ]
     },
     "metadata": {},
     "output_type": "display_data"
    }
   ],
   "source": [
    "plt.plot(ts_data.x_data, ts_data.y_true, label='sin(t)')\n",
    "plt.plot(ts.flatten()[1:], y2.flatten(), '*', label='Single training instance')\n",
    "plt.legend()\n",
    "plt.tight_layout()"
   ]
  },
  {
   "cell_type": "code",
   "execution_count": 10,
   "metadata": {
    "collapsed": true
   },
   "outputs": [],
   "source": [
    "train_inst = np.linspace(5, 5+ts_data.resolution*(num_time_steps+1), num_time_steps+1)"
   ]
  },
  {
   "cell_type": "markdown",
   "metadata": {
    "collapsed": true
   },
   "source": [
    "## RNN Model"
   ]
  },
  {
   "cell_type": "code",
   "execution_count": 11,
   "metadata": {
    "collapsed": true
   },
   "outputs": [],
   "source": [
    "tf.reset_default_graph()"
   ]
  },
  {
   "cell_type": "markdown",
   "metadata": {},
   "source": [
    "#### Constants"
   ]
  },
  {
   "cell_type": "code",
   "execution_count": 12,
   "metadata": {
    "collapsed": true
   },
   "outputs": [],
   "source": [
    "num_inputs = 1\n",
    "num_neurons = 100\n",
    "num_outputs = 1\n",
    "learning_rate = 0.0001\n",
    "num_train_iterations = 2000\n",
    "batch_size = 1"
   ]
  },
  {
   "cell_type": "markdown",
   "metadata": {
    "collapsed": true
   },
   "source": [
    "#### Placeholders"
   ]
  },
  {
   "cell_type": "markdown",
   "metadata": {},
   "source": [
    "The input `X` is a 3-D tensor.  \n",
    "\n",
    "|Dimension|Denotes|Value in this example |\n",
    "|---|---|---|\n",
    "|1st | observations | 1 |\n",
    "|2nd | timesteps | 30 |\n",
    "|3rd | number of input features | 1 |\n",
    "\n",
    "The output `y` is also a 3-D tensor.  \n",
    "\n",
    "|Dimension|Denotes|Value in this example |\n",
    "|---|---|---|\n",
    "|1st | observations | 1 |\n",
    "|2nd | timesteps | 30 |\n",
    "|3rd | number of output features | 1 |"
   ]
  },
  {
   "cell_type": "code",
   "execution_count": 13,
   "metadata": {
    "collapsed": true
   },
   "outputs": [],
   "source": [
    "X = tf.placeholder(dtype=tf.float32, shape=[None, num_time_steps, num_inputs])\n",
    "y = tf.placeholder(dtype=tf.float32, shape=[None, num_time_steps, num_outputs])"
   ]
  },
  {
   "cell_type": "markdown",
   "metadata": {},
   "source": [
    "#### RNN Cell (very basic cell)"
   ]
  },
  {
   "cell_type": "markdown",
   "metadata": {},
   "source": [
    "***What does an RNN cell look like???***"
   ]
  },
  {
   "cell_type": "code",
   "execution_count": 14,
   "metadata": {
    "collapsed": true
   },
   "outputs": [],
   "source": [
    "cell = tf.contrib.rnn.OutputProjectionWrapper(\n",
    "    cell=tf.contrib.rnn.BasicRNNCell(num_units=num_neurons,  # num_neurons=100 in this exampled\n",
    "                                     activation=tf.nn.relu), \n",
    "    output_size=num_outputs)    # num_outputs = 1 in this example"
   ]
  },
  {
   "cell_type": "code",
   "execution_count": 42,
   "metadata": {},
   "outputs": [
    {
     "data": {
      "text/plain": [
       "1"
      ]
     },
     "execution_count": 42,
     "metadata": {},
     "output_type": "execute_result"
    }
   ],
   "source": [
    "cell.output_size"
   ]
  },
  {
   "cell_type": "code",
   "execution_count": 43,
   "metadata": {},
   "outputs": [
    {
     "data": {
      "text/plain": [
       "100"
      ]
     },
     "execution_count": 43,
     "metadata": {},
     "output_type": "execute_result"
    }
   ],
   "source": [
    "cell.state_size"
   ]
  },
  {
   "cell_type": "code",
   "execution_count": 50,
   "metadata": {
    "scrolled": true
   },
   "outputs": [
    {
     "data": {
      "text/plain": [
       "[<tf.Variable 'rnn/output_projection_wrapper/basic_rnn_cell/kernel:0' shape=(101, 100) dtype=float32_ref>,\n",
       " <tf.Variable 'rnn/output_projection_wrapper/basic_rnn_cell/bias:0' shape=(100,) dtype=float32_ref>,\n",
       " <tf.Variable 'rnn/output_projection_wrapper/kernel:0' shape=(100, 1) dtype=float32_ref>,\n",
       " <tf.Variable 'rnn/output_projection_wrapper/bias:0' shape=(1,) dtype=float32_ref>]"
      ]
     },
     "execution_count": 50,
     "metadata": {},
     "output_type": "execute_result"
    }
   ],
   "source": [
    "cell.weights"
   ]
  },
  {
   "cell_type": "code",
   "execution_count": 37,
   "metadata": {
    "collapsed": true
   },
   "outputs": [],
   "source": [
    "outputs, states = tf.nn.dynamic_rnn(cell=cell, \n",
    "                                    inputs=X, \n",
    "                                    dtype=tf.float32)"
   ]
  },
  {
   "cell_type": "code",
   "execution_count": 38,
   "metadata": {},
   "outputs": [
    {
     "name": "stdout",
     "output_type": "stream",
     "text": [
      "Tensor(\"rnn_1/transpose:0\", shape=(?, 30, 1), dtype=float32)\n",
      "Tensor(\"rnn_1/while/Exit_2:0\", shape=(?, 100), dtype=float32)\n"
     ]
    }
   ],
   "source": [
    "print(outputs)\n",
    "print(states)"
   ]
  },
  {
   "cell_type": "markdown",
   "metadata": {},
   "source": [
    "`outputs` is a tensor of shape `(?, 30, 1)`, same as the shape of placeholder `X`.  \n",
    "`states` is a tensor of shape `(?, 100)`, but why???"
   ]
  },
  {
   "cell_type": "markdown",
   "metadata": {},
   "source": [
    "#### Loss Function (MSE)"
   ]
  },
  {
   "cell_type": "markdown",
   "metadata": {},
   "source": [
    "Loss is defined by mean square error.  \n",
    "Error is calculated by `outputs-y`, which is a tensor of shape `(?, 30, 1)`.  \n",
    "Then perform element-wise square operation with `tf.square()` function, again gets a tensor.  \n",
    "Then reduce that tensor to a number with `tf.reduce_mean()` function.  \n",
    "Note that no calculations are actually performed. Actual calculation is executed only when you `run()` a `tf.Session()`."
   ]
  },
  {
   "cell_type": "code",
   "execution_count": 65,
   "metadata": {},
   "outputs": [
    {
     "data": {
      "text/plain": [
       "<tf.Tensor 'sub_5:0' shape=(?, 30, 1) dtype=float32>"
      ]
     },
     "execution_count": 65,
     "metadata": {},
     "output_type": "execute_result"
    }
   ],
   "source": [
    "outputs-y"
   ]
  },
  {
   "cell_type": "code",
   "execution_count": 63,
   "metadata": {},
   "outputs": [
    {
     "data": {
      "text/plain": [
       "<tf.Tensor 'Square_1:0' shape=(?, 30, 1) dtype=float32>"
      ]
     },
     "execution_count": 63,
     "metadata": {},
     "output_type": "execute_result"
    }
   ],
   "source": [
    "tf.square(outputs-y)"
   ]
  },
  {
   "cell_type": "code",
   "execution_count": 16,
   "metadata": {
    "collapsed": true
   },
   "outputs": [],
   "source": [
    "loss = tf.reduce_mean(tf.square(outputs-y))"
   ]
  },
  {
   "cell_type": "code",
   "execution_count": 64,
   "metadata": {},
   "outputs": [
    {
     "data": {
      "text/plain": [
       "<tf.Tensor 'Mean:0' shape=() dtype=float32>"
      ]
     },
     "execution_count": 64,
     "metadata": {},
     "output_type": "execute_result"
    }
   ],
   "source": [
    "loss"
   ]
  },
  {
   "cell_type": "markdown",
   "metadata": {},
   "source": [
    "#### Optimizer"
   ]
  },
  {
   "cell_type": "code",
   "execution_count": 17,
   "metadata": {
    "collapsed": true
   },
   "outputs": [],
   "source": [
    "optimizer = tf.train.AdamOptimizer(learning_rate=learning_rate)"
   ]
  },
  {
   "cell_type": "code",
   "execution_count": 66,
   "metadata": {},
   "outputs": [
    {
     "data": {
      "text/plain": [
       "<tensorflow.python.training.adam.AdamOptimizer at 0x11b198c88>"
      ]
     },
     "execution_count": 66,
     "metadata": {},
     "output_type": "execute_result"
    }
   ],
   "source": [
    "optimizer"
   ]
  },
  {
   "cell_type": "code",
   "execution_count": 18,
   "metadata": {
    "collapsed": true
   },
   "outputs": [],
   "source": [
    "train = optimizer.minimize(loss)"
   ]
  },
  {
   "cell_type": "code",
   "execution_count": 67,
   "metadata": {},
   "outputs": [
    {
     "data": {
      "text/plain": [
       "<tf.Operation 'Adam' type=NoOp>"
      ]
     },
     "execution_count": 67,
     "metadata": {},
     "output_type": "execute_result"
    }
   ],
   "source": [
    "train"
   ]
  },
  {
   "cell_type": "code",
   "execution_count": 19,
   "metadata": {
    "collapsed": true
   },
   "outputs": [],
   "source": [
    "init = tf.global_variables_initializer()"
   ]
  },
  {
   "cell_type": "code",
   "execution_count": 68,
   "metadata": {},
   "outputs": [
    {
     "data": {
      "text/plain": [
       "<tf.Operation 'init' type=NoOp>"
      ]
     },
     "execution_count": 68,
     "metadata": {},
     "output_type": "execute_result"
    }
   ],
   "source": [
    "init"
   ]
  },
  {
   "cell_type": "markdown",
   "metadata": {},
   "source": [
    "#### Run a Session"
   ]
  },
  {
   "cell_type": "code",
   "execution_count": 20,
   "metadata": {
    "collapsed": true
   },
   "outputs": [],
   "source": [
    "saver = tf.train.Saver()"
   ]
  },
  {
   "cell_type": "code",
   "execution_count": 69,
   "metadata": {},
   "outputs": [
    {
     "data": {
      "text/plain": [
       "<tensorflow.python.training.saver.Saver at 0x11b292470>"
      ]
     },
     "execution_count": 69,
     "metadata": {},
     "output_type": "execute_result"
    }
   ],
   "source": [
    "saver"
   ]
  },
  {
   "cell_type": "code",
   "execution_count": 79,
   "metadata": {},
   "outputs": [],
   "source": [
    "X_batch, y_batch = ts_data.next_batch(batch_size=batch_size, steps=num_time_steps)"
   ]
  },
  {
   "cell_type": "code",
   "execution_count": 80,
   "metadata": {},
   "outputs": [
    {
     "data": {
      "text/plain": [
       "(1, 30, 1)"
      ]
     },
     "execution_count": 80,
     "metadata": {},
     "output_type": "execute_result"
    }
   ],
   "source": [
    "X_batch.shape"
   ]
  },
  {
   "cell_type": "code",
   "execution_count": 81,
   "metadata": {},
   "outputs": [
    {
     "data": {
      "text/plain": [
       "(1, 30, 1)"
      ]
     },
     "execution_count": 81,
     "metadata": {},
     "output_type": "execute_result"
    }
   ],
   "source": [
    "y_batch.shape"
   ]
  },
  {
   "cell_type": "markdown",
   "metadata": {},
   "source": [
    "In each iteration we generate a random segment from `y=sin(x)` 0<x<10, which is 'true' data, and feed it into the RNN network.\n",
    "\n",
    "During `sess.run()`, the session tries to evaluate `train` (an `tf.Operation` object), and trace back to the definition of `train` and found that it operates `tf.AdamOptimizer()` on `loss`.  \n",
    "The session then follows definition of `loss` and see that it comes form `outputs` and `y`.  \n",
    "`y` is fed in via the `feed_dict` parameter, so `sess` knows where to find it.  \n",
    "`outputs` is further tracked down and it's found to be the output of an RNN that depends on `X` and `cell`.  \n",
    "Again `X` was fed in via the `feed_dict`, and `cell` is found to be an `RNNCell` object which saves information about what happed before and what to do with `X`."
   ]
  },
  {
   "cell_type": "code",
   "execution_count": 21,
   "metadata": {},
   "outputs": [
    {
     "name": "stdout",
     "output_type": "stream",
     "text": [
      "0 \tMSE 0.334043\n",
      "100 \tMSE 0.0431431\n",
      "200 \tMSE 0.076947\n",
      "300 \tMSE 0.010399\n",
      "400 \tMSE 0.0334076\n",
      "500 \tMSE 0.0439959\n",
      "600 \tMSE 0.00194697\n",
      "700 \tMSE 0.0333429\n",
      "800 \tMSE 0.01168\n",
      "900 \tMSE 0.00367498\n",
      "1000 \tMSE 0.0247448\n",
      "1100 \tMSE 0.00557653\n",
      "1200 \tMSE 0.0199047\n",
      "1300 \tMSE 0.00286544\n",
      "1400 \tMSE 0.000120164\n",
      "1500 \tMSE 0.00459243\n",
      "1600 \tMSE 0.000950146\n",
      "1700 \tMSE 0.0120456\n",
      "1800 \tMSE 0.00716437\n",
      "1900 \tMSE 0.000258766\n"
     ]
    }
   ],
   "source": [
    "with tf.Session() as sess:\n",
    "    sess.run(init)\n",
    "    \n",
    "    for iteration in range(num_train_iterations):  # num_train_iterations = 2000 in this example\n",
    "        X_batch, y_batch = ts_data.next_batch(batch_size=batch_size, steps=num_time_steps)\n",
    "        \n",
    "        sess.run(train, feed_dict={X: X_batch, y:y_batch})\n",
    "        \n",
    "        if iteration %100 == 0:\n",
    "            mse = loss.eval(feed_dict={X: X_batch, y:y_batch})\n",
    "            print(iteration, '\\tMSE', mse)\n",
    "    \n",
    "    saver.save(sess, \"./rnn_time_series_model_codealong\")"
   ]
  },
  {
   "cell_type": "markdown",
   "metadata": {},
   "source": [
    "#### Use the trained mode to predict one step in the future"
   ]
  },
  {
   "cell_type": "code",
   "execution_count": 22,
   "metadata": {},
   "outputs": [
    {
     "name": "stdout",
     "output_type": "stream",
     "text": [
      "INFO:tensorflow:Restoring parameters from ./rnn_time_series_model_codealong\n"
     ]
    }
   ],
   "source": [
    "with tf.Session() as sess:\n",
    "    saver.restore(sess, \"./rnn_time_series_model_codealong\")\n",
    "    X_new = np.sin(np.array(train_inst[:-1].reshape(-1, num_time_steps, num_inputs)))\n",
    "    y_pred = sess.run(outputs, feed_dict={X: X_new})"
   ]
  },
  {
   "cell_type": "code",
   "execution_count": 23,
   "metadata": {},
   "outputs": [
    {
     "data": {
      "image/png": "[encoded data removed]",
      "text/plain": [
       "<matplotlib.figure.Figure at 0x11b46cf28>"
      ]
     },
     "metadata": {},
     "output_type": "display_data"
    }
   ],
   "source": [
    "plt.title(\"TESTING THE MODEL\")\n",
    "\n",
    "# Training instance\n",
    "plt.plot(train_inst[:-1], np.sin(train_inst)[:-1], \n",
    "         'bo', markersize=15, alpha=0.5, label='TRAINING INST')\n",
    "\n",
    "# True target\n",
    "plt.plot(train_inst[1:], np.sin(train_inst)[1:], \n",
    "         'ko', markersize=10, label='TRUE TARGET')\n",
    "\n",
    "# Model predictions\n",
    "plt.plot(train_inst[1:], y_pred[0, :, 0], \n",
    "         'r.', markersize=10, label='PREDICTIONS')\n",
    "\n",
    "plt.xlabel(\"TIME\")\n",
    "plt.legend()\n",
    "plt.tight_layout()"
   ]
  },
  {
   "cell_type": "markdown",
   "metadata": {
    "collapsed": true
   },
   "source": [
    "## Generating New Sequence"
   ]
  },
  {
   "cell_type": "code",
   "execution_count": 86,
   "metadata": {},
   "outputs": [
    {
     "name": "stdout",
     "output_type": "stream",
     "text": [
      "INFO:tensorflow:Restoring parameters from ./rnn_time_series_model_codealong\n"
     ]
    }
   ],
   "source": [
    "with tf.Session() as sess:\n",
    "    saver.restore(sess, './rnn_time_series_model_codealong')\n",
    "    \n",
    "    # SEED ZEROS\n",
    "    zero_seq_seed = [0.0 for _ in range(num_time_steps)]\n",
    "    \n",
    "    for iteration in range(len(ts_data.x_data)-num_time_steps):\n",
    "        X_batch = np.array(zero_seq_seed[-num_time_steps:]).reshape(1, num_time_steps, 1)\n",
    "        y_pred = sess.run(outputs, feed_dict={X: X_batch})\n",
    "        zero_seq_seed.append(y_pred[0, -1, 0])  # only takeout the last element in y_pred"
   ]
  },
  {
   "cell_type": "code",
   "execution_count": 95,
   "metadata": {
    "scrolled": true
   },
   "outputs": [
    {
     "data": {
      "text/plain": [
       "0.20569074"
      ]
     },
     "execution_count": 95,
     "metadata": {},
     "output_type": "execute_result"
    }
   ],
   "source": [
    "y_pred[0, -1, 0]"
   ]
  },
  {
   "cell_type": "code",
   "execution_count": 101,
   "metadata": {
    "scrolled": true
   },
   "outputs": [
    {
     "data": {
      "text/plain": [
       "[<matplotlib.lines.Line2D at 0x11cc4f4a8>]"
      ]
     },
     "execution_count": 101,
     "metadata": {},
     "output_type": "execute_result"
    },
    {
     "data": {
      "image/png": "[encoded data removed]",
      "text/plain": [
       "<matplotlib.figure.Figure at 0x11cc4f588>"
      ]
     },
     "metadata": {},
     "output_type": "display_data"
    }
   ],
   "source": [
    "plt.plot(ts_data.x_data, zero_seq_seed, 'b-')\n",
    "plt.plot(ts_data.x_data[:num_time_steps], zero_seq_seed[:num_time_steps], 'r', linewidth=3)"
   ]
  },
  {
   "cell_type": "markdown",
   "metadata": {},
   "source": []
  },
  {
   "cell_type": "code",
   "execution_count": 96,
   "metadata": {},
   "outputs": [
    {
     "name": "stdout",
     "output_type": "stream",
     "text": [
      "INFO:tensorflow:Restoring parameters from ./rnn_time_series_model_codealong\n"
     ]
    }
   ],
   "source": [
    "with tf.Session() as sess:\n",
    "    saver.restore(sess, './rnn_time_series_model_codealong')\n",
    "    \n",
    "    training_instance = list(ts_data.y_true[:30])\n",
    "    \n",
    "    for iteration in range(len(ts_data.x_data)-num_time_steps):\n",
    "        X_batch = np.array(training_instance[-num_time_steps:]).reshape(1, num_time_steps, 1)\n",
    "        y_pred = sess.run(outputs, feed_dict={X: X_batch})\n",
    "        training_instance.append(y_pred[0, -1, 0])  # only takeout the last element in y_pred"
   ]
  },
  {
   "cell_type": "code",
   "execution_count": 99,
   "metadata": {},
   "outputs": [
    {
     "data": {
      "text/plain": [
       "[<matplotlib.lines.Line2D at 0x11bdc9f60>]"
      ]
     },
     "execution_count": 99,
     "metadata": {},
     "output_type": "execute_result"
    },
    {
     "data": {
      "image/png": "[encoded data removed]",
      "text/plain": [
       "<matplotlib.figure.Figure at 0x11bdc9b70>"
      ]
     },
     "metadata": {},
     "output_type": "display_data"
    }
   ],
   "source": [
    "plt.plot(ts_data.x_data, training_instance, 'b-')\n",
    "plt.plot(ts_data.x_data[:num_time_steps], training_instance[:num_time_steps], 'r', linewidth=3)"
   ]
  }
 ],
 "metadata": {
  "kernelspec": {
   "display_name": "Python 3",
   "language": "python",
   "name": "python3"
  },
  "language_info": {
   "codemirror_mode": {
    "name": "ipython",
    "version": 3
   },
   "file_extension": ".py",
   "mimetype": "text/x-python",
   "name": "python",
   "nbconvert_exporter": "python",
   "pygments_lexer": "ipython3",
   "version": "3.5.4"
  }
 },
 "nbformat": 4,
 "nbformat_minor": 2
}
